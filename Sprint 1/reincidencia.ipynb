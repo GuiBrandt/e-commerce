{
 "cells": [
  {
   "cell_type": "markdown",
   "metadata": {},
   "source": [
    "# Análise da reincidência por cliente"
   ]
  },
  {
   "cell_type": "code",
   "execution_count": 42,
   "metadata": {},
   "outputs": [],
   "source": [
    "import pandas as pd\n",
    "import numpy as np\n",
    "import matplotlib.pyplot as plt\n",
    "\n",
    "from scipy import stats\n",
    "\n",
    "import math"
   ]
  },
  {
   "cell_type": "code",
   "execution_count": 2,
   "metadata": {},
   "outputs": [
    {
     "data": {
      "text/plain": [
       "Unnamed: 0                       99441\n",
       "order_id                         99441\n",
       "customer_unique_id               99441\n",
       "customer_city                    99441\n",
       "customer_state                   99441\n",
       "order_approved_at                99281\n",
       "order_purchase_timestamp         99441\n",
       "order_estimated_delivery_date    99441\n",
       "order_delivered_carrier_date     97658\n",
       "order_delivered_customer_date    96476\n",
       "dtype: int64"
      ]
     },
     "execution_count": 2,
     "metadata": {},
     "output_type": "execute_result"
    }
   ],
   "source": [
    "all_orders = pd.read_csv('../datasets/trusted/all_orders.csv')\n",
    "all_orders.count()"
   ]
  },
  {
   "cell_type": "code",
   "execution_count": 3,
   "metadata": {},
   "outputs": [
    {
     "data": {
      "text/plain": [
       "customer_unique_id\n",
       "8d50f5eadf50201ccdcedfb9e2ac8455    17\n",
       "3e43e6105506432c953e165fb2acf44c     9\n",
       "1b6c7548a2a1f9037c1fd3ddfed95f33     7\n",
       "6469f99c1f9dfae7733b25662e7f1782     7\n",
       "ca77025e7201e3b30c44b472ff346268     7\n",
       "63cfc61cee11cbe306bff5857d00bfe4     6\n",
       "47c1a3033b8b77b3ab6e109eb4d5fdf3     6\n",
       "dc813062e0fc23409cd255f7f53c7074     6\n",
       "de34b16117594161a6a89c50b289d35a     6\n",
       "f0e310a6839dce9de1638e0fe5ab282a     6\n",
       "Name: order_id, dtype: int64"
      ]
     },
     "execution_count": 3,
     "metadata": {},
     "output_type": "execute_result"
    }
   ],
   "source": [
    "times_bought = all_orders.groupby(['customer_unique_id']).agg('count')['order_id'].sort_values(ascending=False)\n",
    "times_bought.head(10)"
   ]
  },
  {
   "cell_type": "code",
   "execution_count": 4,
   "metadata": {},
   "outputs": [
    {
     "data": {
      "text/plain": [
       "<matplotlib.axes._subplots.AxesSubplot at 0x7fee0ae68fd0>"
      ]
     },
     "execution_count": 4,
     "metadata": {},
     "output_type": "execute_result"
    },
    {
     "data": {
      "image/png": "[encoded data removed]",
      "text/plain": [
       "<Figure size 432x288 with 1 Axes>"
      ]
     },
     "metadata": {
      "needs_background": "light"
     },
     "output_type": "display_data"
    }
   ],
   "source": [
    "times_bought.value_counts(normalize=True).plot.bar()"
   ]
  },
  {
   "cell_type": "markdown",
   "metadata": {},
   "source": [
    "Como é possível observar com o gráfico, a grande maioria dos clientes compra apenas uma vez."
   ]
  },
  {
   "cell_type": "code",
   "execution_count": 5,
   "metadata": {},
   "outputs": [
    {
     "data": {
      "text/plain": [
       "Unnamed: 0                       2997\n",
       "order_id                         2997\n",
       "customer_unique_id               2997\n",
       "customer_city                    2997\n",
       "customer_state                   2997\n",
       "order_approved_at                2992\n",
       "order_purchase_timestamp         2997\n",
       "order_estimated_delivery_date    2997\n",
       "order_delivered_carrier_date     2953\n",
       "order_delivered_customer_date    2917\n",
       "dtype: int64"
      ]
     },
     "execution_count": 5,
     "metadata": {},
     "output_type": "execute_result"
    }
   ],
   "source": [
    "more_than_once = all_orders.loc[np.where(times_bought > 1)]\n",
    "more_than_once.count()"
   ]
  },
  {
   "cell_type": "markdown",
   "metadata": {},
   "source": [
    "## Hipótese: a região dos consumidores afeta se eles voltam a comprar ou não"
   ]
  },
  {
   "cell_type": "code",
   "execution_count": 6,
   "metadata": {},
   "outputs": [
    {
     "data": {
      "text/plain": [
       "<matplotlib.axes._subplots.AxesSubplot at 0x7fee0ffa46a0>"
      ]
     },
     "execution_count": 6,
     "metadata": {},
     "output_type": "execute_result"
    },
    {
     "data": {
      "image/png": "[encoded data removed]",
      "text/plain": [
       "<Figure size 432x288 with 1 Axes>"
      ]
     },
     "metadata": {
      "needs_background": "light"
     },
     "output_type": "display_data"
    }
   ],
   "source": [
    "mto_by_state = more_than_once.groupby(['customer_state']).agg('count')['order_id']\n",
    "(mto_by_state / more_than_once.count()[0]).plot.bar()"
   ]
  },
  {
   "cell_type": "markdown",
   "metadata": {},
   "source": [
    "A maior parte dos clientes que volta é do estado de são paulo."
   ]
  },
  {
   "cell_type": "code",
   "execution_count": 7,
   "metadata": {},
   "outputs": [
    {
     "data": {
      "text/plain": [
       "<matplotlib.axes._subplots.AxesSubplot at 0x7fee0fec3390>"
      ]
     },
     "execution_count": 7,
     "metadata": {},
     "output_type": "execute_result"
    },
    {
     "data": {
      "image/png": "[encoded data removed]",
      "text/plain": [
       "<Figure size 432x288 with 1 Axes>"
      ]
     },
     "metadata": {
      "needs_background": "light"
     },
     "output_type": "display_data"
    }
   ],
   "source": [
    "all_by_state = all_orders.groupby(['customer_state']).agg('count')['order_id']\n",
    "(all_by_state / all_orders.count()[0]).plot.bar()"
   ]
  },
  {
   "cell_type": "code",
   "execution_count": 8,
   "metadata": {},
   "outputs": [
    {
     "data": {
      "text/plain": [
       "<matplotlib.axes._subplots.AxesSubplot at 0x7fee0ff80860>"
      ]
     },
     "execution_count": 8,
     "metadata": {},
     "output_type": "execute_result"
    },
    {
     "data": {
      "image/png": "[encoded data removed]",
      "text/plain": [
       "<Figure size 432x288 with 1 Axes>"
      ]
     },
     "metadata": {
      "needs_background": "light"
     },
     "output_type": "display_data"
    }
   ],
   "source": [
    "(mto_by_state / all_by_state).plot.bar()"
   ]
  },
  {
   "cell_type": "code",
   "execution_count": 9,
   "metadata": {},
   "outputs": [
    {
     "data": {
      "text/plain": [
       "0.9994653387646663"
      ]
     },
     "execution_count": 9,
     "metadata": {},
     "output_type": "execute_result"
    }
   ],
   "source": [
    "pd.DataFrame({'mto': mto_by_state, 'all': all_by_state }).corr()['mto']['all']"
   ]
  },
  {
   "cell_type": "code",
   "execution_count": 10,
   "metadata": {},
   "outputs": [
    {
     "name": "stdout",
     "output_type": "stream",
     "text": [
      "88.30838631048043%\n"
     ]
    }
   ],
   "source": [
    "print(stats.kruskal(all_by_state / all_orders.count()[0], mto_by_state / more_than_once.count()[0]).pvalue * 100, '%', sep='')"
   ]
  },
  {
   "cell_type": "markdown",
   "metadata": {},
   "source": [
    "Fazendo uma análise da quantidade de clientes por estado, porém, percebe-se que a distribuição é quase exatamente a mesma. O P-Value para o teste de kruskal também é alto, indicando alta probabilidade de que a distribuição é idêntica.\n",
    "\n",
    "É razoável assumir que o estado não tem nenhum tipo de efeito em se o cliente volta a comprar ou não."
   ]
  },
  {
   "cell_type": "markdown",
   "metadata": {},
   "source": [
    "## Hipótese: o atraso nas entregas afetam se as pessoas voltam ou não"
   ]
  },
  {
   "cell_type": "code",
   "execution_count": 11,
   "metadata": {},
   "outputs": [],
   "source": [
    "def delivery_delay(order):\n",
    "    estimated = pd.to_datetime(order['order_estimated_delivery_date'])\n",
    "    delivered = pd.to_datetime(order['order_delivered_customer_date'])\n",
    "    return delivered - estimated"
   ]
  },
  {
   "cell_type": "code",
   "execution_count": 12,
   "metadata": {},
   "outputs": [],
   "source": [
    "delays_in_days_mto = delivery_delay(more_than_once) / np.timedelta64(24, 'h')\n",
    "delays_in_days_all = delivery_delay(all_orders) / np.timedelta64(24, 'h')"
   ]
  },
  {
   "cell_type": "code",
   "execution_count": 13,
   "metadata": {},
   "outputs": [
    {
     "data": {
      "text/plain": [
       "<matplotlib.axes._subplots.AxesSubplot at 0x7fee0ff4bc18>"
      ]
     },
     "execution_count": 13,
     "metadata": {},
     "output_type": "execute_result"
    },
    {
     "data": {
      "image/png": "[encoded data removed]",
      "text/plain": [
       "<Figure size 1152x288 with 1 Axes>"
      ]
     },
     "metadata": {
      "needs_background": "light"
     },
     "output_type": "display_data"
    }
   ],
   "source": [
    "delays_in_days_mto.plot.kde(\n",
    "    figsize=(16, 4),\n",
    "    xticks=range(int(delays_in_days_mto.min()),\n",
    "                 int(delays_in_days_mto.max()),\n",
    "                 10),\n",
    "    rot=75,\n",
    "    grid=True)\n",
    "\n",
    "delays_in_days_all.plot.kde(\n",
    "    figsize=(16, 4),\n",
    "    xticks=range(int(delays_in_days_all.min()),\n",
    "                 int(delays_in_days_all.max()),\n",
    "                 10),\n",
    "    rot=75,\n",
    "    grid=True)"
   ]
  },
  {
   "cell_type": "code",
   "execution_count": 63,
   "metadata": {},
   "outputs": [
    {
     "data": {
      "text/plain": [
       "count    82.000000\n",
       "mean      0.012195\n",
       "std       0.018102\n",
       "min       0.000343\n",
       "25%       0.000686\n",
       "50%       0.003085\n",
       "75%       0.015598\n",
       "max       0.071992\n",
       "dtype: float64"
      ]
     },
     "execution_count": 63,
     "metadata": {},
     "output_type": "execute_result"
    }
   ],
   "source": [
    "ddmto = delays_in_days_mto.dropna().map(lambda x:math.trunc(x)).value_counts(normalize=True).sort_index()\n",
    "ddmto.describe()"
   ]
  },
  {
   "cell_type": "code",
   "execution_count": 65,
   "metadata": {},
   "outputs": [
    {
     "data": {
      "text/plain": [
       "count    82.000000\n",
       "mean      0.012111\n",
       "std       0.017925\n",
       "min       0.000021\n",
       "25%       0.000697\n",
       "50%       0.002679\n",
       "75%       0.017473\n",
       "max       0.073863\n",
       "dtype: float64"
      ]
     },
     "execution_count": 65,
     "metadata": {},
     "output_type": "execute_result"
    }
   ],
   "source": [
    "ddall = delays_in_days_all.dropna().map(lambda x:math.trunc(x)).value_counts(normalize=True)[ddmto.index].sort_index()\n",
    "ddall.describe()"
   ]
  },
  {
   "cell_type": "code",
   "execution_count": 66,
   "metadata": {},
   "outputs": [
    {
     "data": {
      "text/plain": [
       "0.6759162116277826"
      ]
     },
     "execution_count": 66,
     "metadata": {},
     "output_type": "execute_result"
    }
   ],
   "source": [
    "stats.kruskal(ddmto.values, ddall.values).pvalue"
   ]
  },
  {
   "cell_type": "markdown",
   "metadata": {},
   "source": [
    "A maioria das entregas para clientes que voltam acontecem dentro do prazo estipulado, e em sua maior parte adiantadas, com o pico no KDE no valor de -12 dias de \"atraso\", ou seja, 12 dias adiantado."
   ]
  },
  {
   "cell_type": "markdown",
   "metadata": {},
   "source": [
    "Para o total das entregas, no entanto, observa-se o mesmo padrão. Simultaneamente, o teste de Kruskal-Wallis apresenta um elevado p-value de 68%, o que indica que há uma boa chance de que as datas previstas e as datas de entrega apresentem a mesma distribuição tanto para a primeira compra quanto para os retornos. É possível que as entregas adiantadas não sejam a causa da volta dos clientes para mais compras."
   ]
  },
  {
   "cell_type": "markdown",
   "metadata": {},
   "source": [
    "## Hipótese: algumas categorias de produto apresentam maior taxa de reincidência do que outras"
   ]
  },
  {
   "cell_type": "code",
   "execution_count": 70,
   "metadata": {},
   "outputs": [
    {
     "data": {
      "text/plain": [
       "Unnamed: 0                       104881\n",
       "product_id                       104881\n",
       "order_id                         104881\n",
       "price                            104881\n",
       "freight_value                    104881\n",
       "order_purchase_timestamp         104881\n",
       "order_estimated_delivery_date    104881\n",
       "order_delivered_carrier_date     104881\n",
       "order_delivered_customer_date    104881\n",
       "product_category_name            104881\n",
       "product_name_lenght              104881\n",
       "product_description_lenght       104881\n",
       "product_photos_qty               104881\n",
       "product_weight_g                 104881\n",
       "product_length_cm                104881\n",
       "product_height_cm                104881\n",
       "product_width_cm                 104881\n",
       "dtype: int64"
      ]
     },
     "execution_count": 70,
     "metadata": {},
     "output_type": "execute_result"
    }
   ],
   "source": [
    "products = pd.read_csv('../datasets/trusted/sold_products.csv')\n",
    "products.count()"
   ]
  },
  {
   "cell_type": "code",
   "execution_count": 95,
   "metadata": {},
   "outputs": [
    {
     "data": {
      "text/html": [
       "<div>\n",
       "<style scoped>\n",
       "    .dataframe tbody tr th:only-of-type {\n",
       "        vertical-align: middle;\n",
       "    }\n",
       "\n",
       "    .dataframe tbody tr th {\n",
       "        vertical-align: top;\n",
       "    }\n",
       "\n",
       "    .dataframe thead th {\n",
       "        text-align: right;\n",
       "    }\n",
       "</style>\n",
       "<table border=\"1\" class=\"dataframe\">\n",
       "  <thead>\n",
       "    <tr style=\"text-align: right;\">\n",
       "      <th></th>\n",
       "      <th>id</th>\n",
       "      <th>order_id</th>\n",
       "      <th>category</th>\n",
       "    </tr>\n",
       "  </thead>\n",
       "  <tbody>\n",
       "    <tr>\n",
       "      <th>0</th>\n",
       "      <td>7c396fd4830fd04220f754e42b4e5bff</td>\n",
       "      <td>00010242fe8c5a6d1ba2dd792cb16214</td>\n",
       "      <td>cool_stuff</td>\n",
       "    </tr>\n",
       "    <tr>\n",
       "      <th>1</th>\n",
       "      <td>af07308b275d755c9edb36a90c618231</td>\n",
       "      <td>130898c0987d1801452a8ed92a670612</td>\n",
       "      <td>cool_stuff</td>\n",
       "    </tr>\n",
       "    <tr>\n",
       "      <th>2</th>\n",
       "      <td>3a653a41f6f9fc3d2a113cf8398680e8</td>\n",
       "      <td>532ed5e14e24ae1f0d735b91524b98b9</td>\n",
       "      <td>cool_stuff</td>\n",
       "    </tr>\n",
       "    <tr>\n",
       "      <th>3</th>\n",
       "      <td>7c142cf63193a1473d2e66489a9ae977</td>\n",
       "      <td>6f8c31653edb8c83e1a739408b5ff750</td>\n",
       "      <td>cool_stuff</td>\n",
       "    </tr>\n",
       "    <tr>\n",
       "      <th>4</th>\n",
       "      <td>72632f0f9dd73dfee390c9b22eb56dd6</td>\n",
       "      <td>7d19f4ef4d04461989632411b7e588b9</td>\n",
       "      <td>cool_stuff</td>\n",
       "    </tr>\n",
       "  </tbody>\n",
       "</table>\n",
       "</div>"
      ],
      "text/plain": [
       "                                 id                          order_id  \\\n",
       "0  7c396fd4830fd04220f754e42b4e5bff  00010242fe8c5a6d1ba2dd792cb16214   \n",
       "1  af07308b275d755c9edb36a90c618231  130898c0987d1801452a8ed92a670612   \n",
       "2  3a653a41f6f9fc3d2a113cf8398680e8  532ed5e14e24ae1f0d735b91524b98b9   \n",
       "3  7c142cf63193a1473d2e66489a9ae977  6f8c31653edb8c83e1a739408b5ff750   \n",
       "4  72632f0f9dd73dfee390c9b22eb56dd6  7d19f4ef4d04461989632411b7e588b9   \n",
       "\n",
       "     category  \n",
       "0  cool_stuff  \n",
       "1  cool_stuff  \n",
       "2  cool_stuff  \n",
       "3  cool_stuff  \n",
       "4  cool_stuff  "
      ]
     },
     "execution_count": 95,
     "metadata": {},
     "output_type": "execute_result"
    }
   ],
   "source": [
    "orders_by_category = pd.DataFrame({\n",
    "    'id': all_orders['customer_unique_id'],\n",
    "    'order_id': products['order_id'],\n",
    "    'category': products['product_category_name']\n",
    "}).dropna()\n",
    "orders_by_category.head()"
   ]
  },
  {
   "cell_type": "code",
   "execution_count": 91,
   "metadata": {},
   "outputs": [
    {
     "data": {
      "text/html": [
       "<div>\n",
       "<style scoped>\n",
       "    .dataframe tbody tr th:only-of-type {\n",
       "        vertical-align: middle;\n",
       "    }\n",
       "\n",
       "    .dataframe tbody tr th {\n",
       "        vertical-align: top;\n",
       "    }\n",
       "\n",
       "    .dataframe thead th {\n",
       "        text-align: right;\n",
       "    }\n",
       "</style>\n",
       "<table border=\"1\" class=\"dataframe\">\n",
       "  <thead>\n",
       "    <tr style=\"text-align: right;\">\n",
       "      <th></th>\n",
       "      <th>order_id</th>\n",
       "      <th>category</th>\n",
       "    </tr>\n",
       "    <tr>\n",
       "      <th>id</th>\n",
       "      <th></th>\n",
       "      <th></th>\n",
       "    </tr>\n",
       "  </thead>\n",
       "  <tbody>\n",
       "    <tr>\n",
       "      <th>8d50f5eadf50201ccdcedfb9e2ac8455</th>\n",
       "      <td>17</td>\n",
       "      <td>17</td>\n",
       "    </tr>\n",
       "    <tr>\n",
       "      <th>3e43e6105506432c953e165fb2acf44c</th>\n",
       "      <td>9</td>\n",
       "      <td>9</td>\n",
       "    </tr>\n",
       "    <tr>\n",
       "      <th>6469f99c1f9dfae7733b25662e7f1782</th>\n",
       "      <td>7</td>\n",
       "      <td>7</td>\n",
       "    </tr>\n",
       "    <tr>\n",
       "      <th>ca77025e7201e3b30c44b472ff346268</th>\n",
       "      <td>7</td>\n",
       "      <td>7</td>\n",
       "    </tr>\n",
       "    <tr>\n",
       "      <th>1b6c7548a2a1f9037c1fd3ddfed95f33</th>\n",
       "      <td>7</td>\n",
       "      <td>7</td>\n",
       "    </tr>\n",
       "  </tbody>\n",
       "</table>\n",
       "</div>"
      ],
      "text/plain": [
       "                                  order_id  category\n",
       "id                                                  \n",
       "8d50f5eadf50201ccdcedfb9e2ac8455        17        17\n",
       "3e43e6105506432c953e165fb2acf44c         9         9\n",
       "6469f99c1f9dfae7733b25662e7f1782         7         7\n",
       "ca77025e7201e3b30c44b472ff346268         7         7\n",
       "1b6c7548a2a1f9037c1fd3ddfed95f33         7         7"
      ]
     },
     "execution_count": 91,
     "metadata": {},
     "output_type": "execute_result"
    }
   ],
   "source": [
    "orders_by_category.groupby('id').agg('count').sort_values(by='order_id', ascending=False).head()"
   ]
  },
  {
   "cell_type": "code",
   "execution_count": 94,
   "metadata": {},
   "outputs": [
    {
     "data": {
      "text/plain": [
       "array(['cool_stuff', 'pet_shop', 'moveis_decoracao', 'perfumaria',\n",
       "       'ferramentas_jardim', 'utilidades_domesticas', 'telefonia',\n",
       "       'beleza_saude', 'livros_tecnicos', 'fashion_bolsas_e_acessorios',\n",
       "       'cama_mesa_banho', 'esporte_lazer', 'consoles_games',\n",
       "       'moveis_escritorio', 'malas_acessorios', 'alimentos',\n",
       "       'agro_industria_e_comercio', 'eletronicos',\n",
       "       'informatica_acessorios', 'construcao_ferramentas_construcao',\n",
       "       'audio', 'bebes', 'construcao_ferramentas_iluminacao',\n",
       "       'brinquedos', 'papelaria', 'industria_comercio_e_negocios',\n",
       "       'relogios_presentes', 'automotivo', 'eletrodomesticos',\n",
       "       'moveis_cozinha_area_de_servico_jantar_e_jardim', 'climatizacao',\n",
       "       'casa_conforto', 'telefonia_fixa', 'portateis_casa_forno_e_cafe',\n",
       "       'fraldas_higiene', 'sinalizacao_e_seguranca',\n",
       "       'instrumentos_musicais', 'eletroportateis',\n",
       "       'construcao_ferramentas_jardim', 'artes', 'casa_construcao',\n",
       "       'livros_interesse_geral', 'artigos_de_festas',\n",
       "       'construcao_ferramentas_seguranca', 'cine_foto',\n",
       "       'fashion_underwear_e_moda_praia', 'fashion_roupa_masculina',\n",
       "       'alimentos_bebidas', 'bebidas', 'moveis_sala', 'market_place',\n",
       "       'musica', 'fashion_calcados', 'flores', 'eletrodomesticos_2',\n",
       "       'fashion_roupa_feminina', 'pcs', 'livros_importados',\n",
       "       'artigos_de_natal', 'moveis_quarto', 'casa_conforto_2',\n",
       "       'portateis_cozinha_e_preparadores_de_alimentos', 'dvds_blu_ray',\n",
       "       'cds_dvds_musicais', 'moveis_colchao_e_estofado',\n",
       "       'tablets_impressao_imagem', 'construcao_ferramentas_ferramentas',\n",
       "       'artes_e_artesanato', 'fashion_esporte', 'la_cuisine', 'pc_gamer',\n",
       "       'seguros_e_servicos', 'fashion_roupa_infanto_juvenil'],\n",
       "      dtype=object)"
      ]
     },
     "execution_count": 94,
     "metadata": {},
     "output_type": "execute_result"
    }
   ],
   "source": [
    "categories = products['product_category_name'].unique()\n",
    "categories"
   ]
  },
  {
   "cell_type": "code",
   "execution_count": 106,
   "metadata": {},
   "outputs": [
    {
     "data": {
      "text/html": [
       "<div>\n",
       "<style scoped>\n",
       "    .dataframe tbody tr th:only-of-type {\n",
       "        vertical-align: middle;\n",
       "    }\n",
       "\n",
       "    .dataframe tbody tr th {\n",
       "        vertical-align: top;\n",
       "    }\n",
       "\n",
       "    .dataframe thead th {\n",
       "        text-align: right;\n",
       "    }\n",
       "</style>\n",
       "<table border=\"1\" class=\"dataframe\">\n",
       "  <thead>\n",
       "    <tr style=\"text-align: right;\">\n",
       "      <th></th>\n",
       "      <th>cool_stuff</th>\n",
       "      <th>pet_shop</th>\n",
       "      <th>moveis_decoracao</th>\n",
       "      <th>perfumaria</th>\n",
       "      <th>ferramentas_jardim</th>\n",
       "      <th>utilidades_domesticas</th>\n",
       "      <th>telefonia</th>\n",
       "      <th>beleza_saude</th>\n",
       "      <th>livros_tecnicos</th>\n",
       "      <th>fashion_bolsas_e_acessorios</th>\n",
       "      <th>...</th>\n",
       "      <th>cds_dvds_musicais</th>\n",
       "      <th>moveis_colchao_e_estofado</th>\n",
       "      <th>tablets_impressao_imagem</th>\n",
       "      <th>construcao_ferramentas_ferramentas</th>\n",
       "      <th>artes_e_artesanato</th>\n",
       "      <th>fashion_esporte</th>\n",
       "      <th>la_cuisine</th>\n",
       "      <th>pc_gamer</th>\n",
       "      <th>seguros_e_servicos</th>\n",
       "      <th>fashion_roupa_infanto_juvenil</th>\n",
       "    </tr>\n",
       "  </thead>\n",
       "  <tbody>\n",
       "    <tr>\n",
       "      <th>0</th>\n",
       "      <td>7c396fd4830fd04220f754e42b4e5bff</td>\n",
       "      <td>299905e3934e9e181bfb2e164dd4b4f8</td>\n",
       "      <td>f2a85dec752b8517b5e58a06ff3cd937</td>\n",
       "      <td>e2dfa3127fedbbca9707b36304996dab</td>\n",
       "      <td>ccafc1c3f270410521c3c6f3b249870f</td>\n",
       "      <td>576ea0cab426cd8a00fad9a9c90a4494</td>\n",
       "      <td>a6fefcd9f434474cf6fcd8ed1102fd63</td>\n",
       "      <td>6cbe8a392b76916e84c2faf69d0d0da0</td>\n",
       "      <td>661a5e18a28b34880ccc60112f2b8e8e</td>\n",
       "      <td>b6aa1d5781553afaa244c3e42246d93c</td>\n",
       "      <td>...</td>\n",
       "      <td>4ea6c3c0ddbe4935ab5766001f06c9e4</td>\n",
       "      <td>53fcfee1fcc02d39a932f8eed8d6d9b8</td>\n",
       "      <td>bee9356eb7c026e686722938b679471d</td>\n",
       "      <td>bfbad637ec59b54146a553e6ef427ea4</td>\n",
       "      <td>5fbfdca262348db58bdfae6bb33b18d3</td>\n",
       "      <td>9a9c99d9935776de5535985e829bace5</td>\n",
       "      <td>37f9711adee5be5ffdff5b728b8eb529</td>\n",
       "      <td>56b2d85788f3b0a6bb69d618a5684e1a</td>\n",
       "      <td>e8a398ff29ecd32cd95796a2fe0de274</td>\n",
       "      <td>cbafa8227623af5855f89a9e49210ef4</td>\n",
       "    </tr>\n",
       "    <tr>\n",
       "      <th>1</th>\n",
       "      <td>af07308b275d755c9edb36a90c618231</td>\n",
       "      <td>e49b5376d3eb639d5dc6e2851a2e73a1</td>\n",
       "      <td>782987b81c92239d922aa49d6bd4200b</td>\n",
       "      <td>04cf8185c71090d28baa4407b2e6d600</td>\n",
       "      <td>6e26bbeaa107ec34112c64e1ee31c0f5</td>\n",
       "      <td>f4a7ef6bd931f83d75d83b71c94e90df</td>\n",
       "      <td>37363700139c1aef873bbcd916e57dfd</td>\n",
       "      <td>92fd8aa5948e20c43a014c44c025c5e1</td>\n",
       "      <td>f1f4f45c8602d0db1329eed1c8e935d4</td>\n",
       "      <td>4a8c8f751984985cd49f74249da95aae</td>\n",
       "      <td>...</td>\n",
       "      <td>2b02fbae01181dfb18934ebfea46a89e</td>\n",
       "      <td>26824609b6ffd112ba3cff92fee70c0a</td>\n",
       "      <td>6513e63443ad3306789b25a8d0c864ce</td>\n",
       "      <td>f041d0ca4717eab95d05b412e6aaea17</td>\n",
       "      <td>d2f9fdfb4e3b99ad3e7a41588bd942d2</td>\n",
       "      <td>26eeafb746fcaa7f640aad03a1410fa5</td>\n",
       "      <td>bb3d6a451634de7b6d913793e4f7520c</td>\n",
       "      <td>4462b054b8d56ce4cc289435843d38cc</td>\n",
       "      <td>43ba4c5bac7ad4720dadce76a197a830</td>\n",
       "      <td>03d01a4b09e221a1bb37343eb990dbda</td>\n",
       "    </tr>\n",
       "    <tr>\n",
       "      <th>2</th>\n",
       "      <td>3a653a41f6f9fc3d2a113cf8398680e8</td>\n",
       "      <td>73da78eda27f160f2ed111e2916d162d</td>\n",
       "      <td>e97109680b052ee858d93a539597bba7</td>\n",
       "      <td>bf004b2b614c68e6d2401afc33741b33</td>\n",
       "      <td>6087cfc70fd833cf2db637a5e6e9d76b</td>\n",
       "      <td>bd13608b9c6033892ce62269b50a0afc</td>\n",
       "      <td>a2649503b92028291f011a976619b322</td>\n",
       "      <td>1b542f810484d8c042aed33a7c61a218</td>\n",
       "      <td>5f7d7732b351ce851a158528581af05f</td>\n",
       "      <td>00b2ca23369b68c4d4105ecea9c0cb93</td>\n",
       "      <td>...</td>\n",
       "      <td>ffbf790cac0b6cf2e411d9f158c0fbe2</td>\n",
       "      <td>fafbc4ecb15933633821dfd530c9263b</td>\n",
       "      <td>bba38923aa817f25c6dec24021ae3f09</td>\n",
       "      <td>9b6aaab71723727ac6a05977b6872876</td>\n",
       "      <td>b680711d9a869502a6966a7892ab97cc</td>\n",
       "      <td>aaf1073f5e24306f7d20f63e5804825f</td>\n",
       "      <td>9c28a565adee8c7bc1852b1278fb18c4</td>\n",
       "      <td>ac2245a91f23c10b0337a64ef66ace3a</td>\n",
       "      <td>None</td>\n",
       "      <td>abb9723eb9abc628514b570baf005c8e</td>\n",
       "    </tr>\n",
       "    <tr>\n",
       "      <th>3</th>\n",
       "      <td>7c142cf63193a1473d2e66489a9ae977</td>\n",
       "      <td>21ac2a805b374c2aa44d6a5301a1b4a9</td>\n",
       "      <td>1c4ad540c8c5c36be4a8b8ec08f79638</td>\n",
       "      <td>f3d96550a8adeb771fe53948521cf602</td>\n",
       "      <td>d0ff1a7468fcc46b8fc658ab35d2a12c</td>\n",
       "      <td>1428917cd397d4f9ac0fde76dd6f2266</td>\n",
       "      <td>c28b695680373781f8ff086844f72ef2</td>\n",
       "      <td>c796780c7daeab9e94cc052b1f103b21</td>\n",
       "      <td>92b0c5698b3008fd30c5230b2504df71</td>\n",
       "      <td>8b8028d453a01986b48c4271cc341475</td>\n",
       "      <td>...</td>\n",
       "      <td>c68c8c2217bb842d2dab9331ae200f07</td>\n",
       "      <td>776581cf5627bc9a3730f69f9a307476</td>\n",
       "      <td>00df047af693b421c167e27932bfd6c5</td>\n",
       "      <td>6eb44ebe2e1ab11ad3bfa6c8a1652e2c</td>\n",
       "      <td>2407d70d5ed17f1a306676228d34d846</td>\n",
       "      <td>8a1dd3dc626d8344f8907c542cd9b382</td>\n",
       "      <td>93311e88a2a2c4fbc066fc30870f5e46</td>\n",
       "      <td>a6cc2b0e951069e78ca04b7c5d68d8af</td>\n",
       "      <td>None</td>\n",
       "      <td>c926874a1718e1659db15d81e492b651</td>\n",
       "    </tr>\n",
       "    <tr>\n",
       "      <th>4</th>\n",
       "      <td>72632f0f9dd73dfee390c9b22eb56dd6</td>\n",
       "      <td>e2a39e986034a5b5dfd3df5b949fa618</td>\n",
       "      <td>00ac9cd5c4ad19e16e7c6f6864711737</td>\n",
       "      <td>b512b0686fca0440147aa0709672cd9b</td>\n",
       "      <td>634f09f6075fe9032e6c19609ffe995a</td>\n",
       "      <td>1974875b4a1d2e2ee6d586e3ba4d7602</td>\n",
       "      <td>6d47c2341b395b7e0294d8692016f6de</td>\n",
       "      <td>3e4fd73f1e86b135b9b121d6abbe9597</td>\n",
       "      <td>379222d9312a6f61a9b401c289cac564</td>\n",
       "      <td>939ca75cff8baa5ad59c798097fdc81a</td>\n",
       "      <td>...</td>\n",
       "      <td>da122df9eeddfedc1dc1f5349a1a690c</td>\n",
       "      <td>38a20b7e29a945b4904ad3b0fbedd593</td>\n",
       "      <td>ff22de821fd449e50e82f657090da1df</td>\n",
       "      <td>2d8ee45e74454f6c8cc717d84be94975</td>\n",
       "      <td>255895b4ce5caa5cd2fe0ed1f9fe2a8a</td>\n",
       "      <td>f794c59a46dc4872d97d173c1b51525a</td>\n",
       "      <td>0bb89e7e4324fc0c63a27ab1e165fa0b</td>\n",
       "      <td>468a27d5bd094619430a55dcddc7eac4</td>\n",
       "      <td>None</td>\n",
       "      <td>None</td>\n",
       "    </tr>\n",
       "  </tbody>\n",
       "</table>\n",
       "<p>5 rows × 73 columns</p>\n",
       "</div>"
      ],
      "text/plain": [
       "                         cool_stuff                          pet_shop  \\\n",
       "0  7c396fd4830fd04220f754e42b4e5bff  299905e3934e9e181bfb2e164dd4b4f8   \n",
       "1  af07308b275d755c9edb36a90c618231  e49b5376d3eb639d5dc6e2851a2e73a1   \n",
       "2  3a653a41f6f9fc3d2a113cf8398680e8  73da78eda27f160f2ed111e2916d162d   \n",
       "3  7c142cf63193a1473d2e66489a9ae977  21ac2a805b374c2aa44d6a5301a1b4a9   \n",
       "4  72632f0f9dd73dfee390c9b22eb56dd6  e2a39e986034a5b5dfd3df5b949fa618   \n",
       "\n",
       "                   moveis_decoracao                        perfumaria  \\\n",
       "0  f2a85dec752b8517b5e58a06ff3cd937  e2dfa3127fedbbca9707b36304996dab   \n",
       "1  782987b81c92239d922aa49d6bd4200b  04cf8185c71090d28baa4407b2e6d600   \n",
       "2  e97109680b052ee858d93a539597bba7  bf004b2b614c68e6d2401afc33741b33   \n",
       "3  1c4ad540c8c5c36be4a8b8ec08f79638  f3d96550a8adeb771fe53948521cf602   \n",
       "4  00ac9cd5c4ad19e16e7c6f6864711737  b512b0686fca0440147aa0709672cd9b   \n",
       "\n",
       "                 ferramentas_jardim             utilidades_domesticas  \\\n",
       "0  ccafc1c3f270410521c3c6f3b249870f  576ea0cab426cd8a00fad9a9c90a4494   \n",
       "1  6e26bbeaa107ec34112c64e1ee31c0f5  f4a7ef6bd931f83d75d83b71c94e90df   \n",
       "2  6087cfc70fd833cf2db637a5e6e9d76b  bd13608b9c6033892ce62269b50a0afc   \n",
       "3  d0ff1a7468fcc46b8fc658ab35d2a12c  1428917cd397d4f9ac0fde76dd6f2266   \n",
       "4  634f09f6075fe9032e6c19609ffe995a  1974875b4a1d2e2ee6d586e3ba4d7602   \n",
       "\n",
       "                          telefonia                      beleza_saude  \\\n",
       "0  a6fefcd9f434474cf6fcd8ed1102fd63  6cbe8a392b76916e84c2faf69d0d0da0   \n",
       "1  37363700139c1aef873bbcd916e57dfd  92fd8aa5948e20c43a014c44c025c5e1   \n",
       "2  a2649503b92028291f011a976619b322  1b542f810484d8c042aed33a7c61a218   \n",
       "3  c28b695680373781f8ff086844f72ef2  c796780c7daeab9e94cc052b1f103b21   \n",
       "4  6d47c2341b395b7e0294d8692016f6de  3e4fd73f1e86b135b9b121d6abbe9597   \n",
       "\n",
       "                    livros_tecnicos       fashion_bolsas_e_acessorios  ...  \\\n",
       "0  661a5e18a28b34880ccc60112f2b8e8e  b6aa1d5781553afaa244c3e42246d93c  ...   \n",
       "1  f1f4f45c8602d0db1329eed1c8e935d4  4a8c8f751984985cd49f74249da95aae  ...   \n",
       "2  5f7d7732b351ce851a158528581af05f  00b2ca23369b68c4d4105ecea9c0cb93  ...   \n",
       "3  92b0c5698b3008fd30c5230b2504df71  8b8028d453a01986b48c4271cc341475  ...   \n",
       "4  379222d9312a6f61a9b401c289cac564  939ca75cff8baa5ad59c798097fdc81a  ...   \n",
       "\n",
       "                  cds_dvds_musicais         moveis_colchao_e_estofado  \\\n",
       "0  4ea6c3c0ddbe4935ab5766001f06c9e4  53fcfee1fcc02d39a932f8eed8d6d9b8   \n",
       "1  2b02fbae01181dfb18934ebfea46a89e  26824609b6ffd112ba3cff92fee70c0a   \n",
       "2  ffbf790cac0b6cf2e411d9f158c0fbe2  fafbc4ecb15933633821dfd530c9263b   \n",
       "3  c68c8c2217bb842d2dab9331ae200f07  776581cf5627bc9a3730f69f9a307476   \n",
       "4  da122df9eeddfedc1dc1f5349a1a690c  38a20b7e29a945b4904ad3b0fbedd593   \n",
       "\n",
       "           tablets_impressao_imagem construcao_ferramentas_ferramentas  \\\n",
       "0  bee9356eb7c026e686722938b679471d   bfbad637ec59b54146a553e6ef427ea4   \n",
       "1  6513e63443ad3306789b25a8d0c864ce   f041d0ca4717eab95d05b412e6aaea17   \n",
       "2  bba38923aa817f25c6dec24021ae3f09   9b6aaab71723727ac6a05977b6872876   \n",
       "3  00df047af693b421c167e27932bfd6c5   6eb44ebe2e1ab11ad3bfa6c8a1652e2c   \n",
       "4  ff22de821fd449e50e82f657090da1df   2d8ee45e74454f6c8cc717d84be94975   \n",
       "\n",
       "                 artes_e_artesanato                   fashion_esporte  \\\n",
       "0  5fbfdca262348db58bdfae6bb33b18d3  9a9c99d9935776de5535985e829bace5   \n",
       "1  d2f9fdfb4e3b99ad3e7a41588bd942d2  26eeafb746fcaa7f640aad03a1410fa5   \n",
       "2  b680711d9a869502a6966a7892ab97cc  aaf1073f5e24306f7d20f63e5804825f   \n",
       "3  2407d70d5ed17f1a306676228d34d846  8a1dd3dc626d8344f8907c542cd9b382   \n",
       "4  255895b4ce5caa5cd2fe0ed1f9fe2a8a  f794c59a46dc4872d97d173c1b51525a   \n",
       "\n",
       "                         la_cuisine                          pc_gamer  \\\n",
       "0  37f9711adee5be5ffdff5b728b8eb529  56b2d85788f3b0a6bb69d618a5684e1a   \n",
       "1  bb3d6a451634de7b6d913793e4f7520c  4462b054b8d56ce4cc289435843d38cc   \n",
       "2  9c28a565adee8c7bc1852b1278fb18c4  ac2245a91f23c10b0337a64ef66ace3a   \n",
       "3  93311e88a2a2c4fbc066fc30870f5e46  a6cc2b0e951069e78ca04b7c5d68d8af   \n",
       "4  0bb89e7e4324fc0c63a27ab1e165fa0b  468a27d5bd094619430a55dcddc7eac4   \n",
       "\n",
       "                 seguros_e_servicos     fashion_roupa_infanto_juvenil  \n",
       "0  e8a398ff29ecd32cd95796a2fe0de274  cbafa8227623af5855f89a9e49210ef4  \n",
       "1  43ba4c5bac7ad4720dadce76a197a830  03d01a4b09e221a1bb37343eb990dbda  \n",
       "2                              None  abb9723eb9abc628514b570baf005c8e  \n",
       "3                              None  c926874a1718e1659db15d81e492b651  \n",
       "4                              None                              None  \n",
       "\n",
       "[5 rows x 73 columns]"
      ]
     },
     "execution_count": 106,
     "metadata": {},
     "output_type": "execute_result"
    }
   ],
   "source": [
    "customers_by_category = pd.DataFrame([[customer for customer in orders_by_category[orders_by_category['category'] == category]['id']] for category in categories]).T\n",
    "customers_by_category.columns = categories\n",
    "customers_by_category.head()"
   ]
  },
  {
   "cell_type": "code",
   "execution_count": 149,
   "metadata": {},
   "outputs": [
    {
     "data": {
      "image/png": "[encoded data removed]",
      "text/plain": [
       "<Figure size 1152x3240 with 73 Axes>"
      ]
     },
     "metadata": {
      "needs_background": "light"
     },
     "output_type": "display_data"
    }
   ],
   "source": [
    "plt.figure(figsize=(16, 45))\n",
    "plt.tight_layout()\n",
    "plt.subplots_adjust(hspace=.3)\n",
    "\n",
    "recurrence_by_category = pd.DataFrame(columns=['category', 'rate'])\n",
    "\n",
    "for c in range(len(categories)):\n",
    "    plt.subplot(15, 5, c + 1)\n",
    "    customers = customers_by_category[categories[c]]\n",
    "    orders_by_customers = all_orders[all_orders['customer_unique_id'].isin(customers.values)]\n",
    "    sales_by_category = orders_by_customers.groupby(['customer_unique_id']).agg('count')['order_id'].sort_values(ascending=False)\n",
    "    recurrence_by_category.loc[categories[c]] = [categories[c], sales_by_category[sales_by_category.values > 2].count() / sales_by_category.count()]\n",
    "    \n",
    "    plt.title(categories[c])\n",
    "    sales_by_category.value_counts(normalize=True).plot.bar()\n",
    "    #print(sales_by_category.head())\n",
    "    \n",
    "plt.show()"
   ]
  },
  {
   "cell_type": "code",
   "execution_count": 153,
   "metadata": {},
   "outputs": [
    {
     "data": {
      "text/html": [
       "<div>\n",
       "<style scoped>\n",
       "    .dataframe tbody tr th:only-of-type {\n",
       "        vertical-align: middle;\n",
       "    }\n",
       "\n",
       "    .dataframe tbody tr th {\n",
       "        vertical-align: top;\n",
       "    }\n",
       "\n",
       "    .dataframe thead th {\n",
       "        text-align: right;\n",
       "    }\n",
       "</style>\n",
       "<table border=\"1\" class=\"dataframe\">\n",
       "  <thead>\n",
       "    <tr style=\"text-align: right;\">\n",
       "      <th></th>\n",
       "      <th>category</th>\n",
       "      <th>rate</th>\n",
       "    </tr>\n",
       "  </thead>\n",
       "  <tbody>\n",
       "    <tr>\n",
       "      <th>artes_e_artesanato</th>\n",
       "      <td>artes_e_artesanato</td>\n",
       "      <td>0.047619</td>\n",
       "    </tr>\n",
       "    <tr>\n",
       "      <th>construcao_ferramentas_seguranca</th>\n",
       "      <td>construcao_ferramentas_seguranca</td>\n",
       "      <td>0.025000</td>\n",
       "    </tr>\n",
       "    <tr>\n",
       "      <th>fashion_underwear_e_moda_praia</th>\n",
       "      <td>fashion_underwear_e_moda_praia</td>\n",
       "      <td>0.024590</td>\n",
       "    </tr>\n",
       "    <tr>\n",
       "      <th>livros_importados</th>\n",
       "      <td>livros_importados</td>\n",
       "      <td>0.021739</td>\n",
       "    </tr>\n",
       "    <tr>\n",
       "      <th>eletrodomesticos_2</th>\n",
       "      <td>eletrodomesticos_2</td>\n",
       "      <td>0.019231</td>\n",
       "    </tr>\n",
       "    <tr>\n",
       "      <th>market_place</th>\n",
       "      <td>market_place</td>\n",
       "      <td>0.017986</td>\n",
       "    </tr>\n",
       "    <tr>\n",
       "      <th>cine_foto</th>\n",
       "      <td>cine_foto</td>\n",
       "      <td>0.016949</td>\n",
       "    </tr>\n",
       "    <tr>\n",
       "      <th>sinalizacao_e_seguranca</th>\n",
       "      <td>sinalizacao_e_seguranca</td>\n",
       "      <td>0.012903</td>\n",
       "    </tr>\n",
       "    <tr>\n",
       "      <th>moveis_escritorio</th>\n",
       "      <td>moveis_escritorio</td>\n",
       "      <td>0.012739</td>\n",
       "    </tr>\n",
       "    <tr>\n",
       "      <th>climatizacao</th>\n",
       "      <td>climatizacao</td>\n",
       "      <td>0.012448</td>\n",
       "    </tr>\n",
       "    <tr>\n",
       "      <th>moveis_quarto</th>\n",
       "      <td>moveis_quarto</td>\n",
       "      <td>0.012346</td>\n",
       "    </tr>\n",
       "    <tr>\n",
       "      <th>automotivo</th>\n",
       "      <td>automotivo</td>\n",
       "      <td>0.011634</td>\n",
       "    </tr>\n",
       "    <tr>\n",
       "      <th>construcao_ferramentas_construcao</th>\n",
       "      <td>construcao_ferramentas_construcao</td>\n",
       "      <td>0.011335</td>\n",
       "    </tr>\n",
       "    <tr>\n",
       "      <th>construcao_ferramentas_iluminacao</th>\n",
       "      <td>construcao_ferramentas_iluminacao</td>\n",
       "      <td>0.011029</td>\n",
       "    </tr>\n",
       "    <tr>\n",
       "      <th>relogios_presentes</th>\n",
       "      <td>relogios_presentes</td>\n",
       "      <td>0.010481</td>\n",
       "    </tr>\n",
       "    <tr>\n",
       "      <th>eletronicos</th>\n",
       "      <td>eletronicos</td>\n",
       "      <td>0.010212</td>\n",
       "    </tr>\n",
       "    <tr>\n",
       "      <th>ferramentas_jardim</th>\n",
       "      <td>ferramentas_jardim</td>\n",
       "      <td>0.010030</td>\n",
       "    </tr>\n",
       "    <tr>\n",
       "      <th>bebes</th>\n",
       "      <td>bebes</td>\n",
       "      <td>0.009760</td>\n",
       "    </tr>\n",
       "    <tr>\n",
       "      <th>telefonia_fixa</th>\n",
       "      <td>telefonia_fixa</td>\n",
       "      <td>0.009662</td>\n",
       "    </tr>\n",
       "    <tr>\n",
       "      <th>telefonia</th>\n",
       "      <td>telefonia</td>\n",
       "      <td>0.009323</td>\n",
       "    </tr>\n",
       "    <tr>\n",
       "      <th>moveis_sala</th>\n",
       "      <td>moveis_sala</td>\n",
       "      <td>0.009153</td>\n",
       "    </tr>\n",
       "    <tr>\n",
       "      <th>eletrodomesticos</th>\n",
       "      <td>eletrodomesticos</td>\n",
       "      <td>0.009063</td>\n",
       "    </tr>\n",
       "    <tr>\n",
       "      <th>fashion_bolsas_e_acessorios</th>\n",
       "      <td>fashion_bolsas_e_acessorios</td>\n",
       "      <td>0.008989</td>\n",
       "    </tr>\n",
       "    <tr>\n",
       "      <th>malas_acessorios</th>\n",
       "      <td>malas_acessorios</td>\n",
       "      <td>0.008448</td>\n",
       "    </tr>\n",
       "    <tr>\n",
       "      <th>moveis_decoracao</th>\n",
       "      <td>moveis_decoracao</td>\n",
       "      <td>0.008277</td>\n",
       "    </tr>\n",
       "    <tr>\n",
       "      <th>pet_shop</th>\n",
       "      <td>pet_shop</td>\n",
       "      <td>0.008154</td>\n",
       "    </tr>\n",
       "    <tr>\n",
       "      <th>livros_interesse_geral</th>\n",
       "      <td>livros_interesse_geral</td>\n",
       "      <td>0.008016</td>\n",
       "    </tr>\n",
       "    <tr>\n",
       "      <th>artigos_de_natal</th>\n",
       "      <td>artigos_de_natal</td>\n",
       "      <td>0.007812</td>\n",
       "    </tr>\n",
       "    <tr>\n",
       "      <th>casa_construcao</th>\n",
       "      <td>casa_construcao</td>\n",
       "      <td>0.007547</td>\n",
       "    </tr>\n",
       "    <tr>\n",
       "      <th>utilidades_domesticas</th>\n",
       "      <td>utilidades_domesticas</td>\n",
       "      <td>0.007508</td>\n",
       "    </tr>\n",
       "    <tr>\n",
       "      <th>...</th>\n",
       "      <td>...</td>\n",
       "      <td>...</td>\n",
       "    </tr>\n",
       "    <tr>\n",
       "      <th>audio</th>\n",
       "      <td>audio</td>\n",
       "      <td>0.005747</td>\n",
       "    </tr>\n",
       "    <tr>\n",
       "      <th>artes</th>\n",
       "      <td>artes</td>\n",
       "      <td>0.005376</td>\n",
       "    </tr>\n",
       "    <tr>\n",
       "      <th>construcao_ferramentas_jardim</th>\n",
       "      <td>construcao_ferramentas_jardim</td>\n",
       "      <td>0.004854</td>\n",
       "    </tr>\n",
       "    <tr>\n",
       "      <th>alimentos_bebidas</th>\n",
       "      <td>alimentos_bebidas</td>\n",
       "      <td>0.004098</td>\n",
       "    </tr>\n",
       "    <tr>\n",
       "      <th>eletroportateis</th>\n",
       "      <td>eletroportateis</td>\n",
       "      <td>0.003745</td>\n",
       "    </tr>\n",
       "    <tr>\n",
       "      <th>casa_conforto</th>\n",
       "      <td>casa_conforto</td>\n",
       "      <td>0.002488</td>\n",
       "    </tr>\n",
       "    <tr>\n",
       "      <th>artigos_de_festas</th>\n",
       "      <td>artigos_de_festas</td>\n",
       "      <td>0.000000</td>\n",
       "    </tr>\n",
       "    <tr>\n",
       "      <th>cds_dvds_musicais</th>\n",
       "      <td>cds_dvds_musicais</td>\n",
       "      <td>0.000000</td>\n",
       "    </tr>\n",
       "    <tr>\n",
       "      <th>moveis_colchao_e_estofado</th>\n",
       "      <td>moveis_colchao_e_estofado</td>\n",
       "      <td>0.000000</td>\n",
       "    </tr>\n",
       "    <tr>\n",
       "      <th>tablets_impressao_imagem</th>\n",
       "      <td>tablets_impressao_imagem</td>\n",
       "      <td>0.000000</td>\n",
       "    </tr>\n",
       "    <tr>\n",
       "      <th>livros_tecnicos</th>\n",
       "      <td>livros_tecnicos</td>\n",
       "      <td>0.000000</td>\n",
       "    </tr>\n",
       "    <tr>\n",
       "      <th>construcao_ferramentas_ferramentas</th>\n",
       "      <td>construcao_ferramentas_ferramentas</td>\n",
       "      <td>0.000000</td>\n",
       "    </tr>\n",
       "    <tr>\n",
       "      <th>portateis_cozinha_e_preparadores_de_alimentos</th>\n",
       "      <td>portateis_cozinha_e_preparadores_de_alimentos</td>\n",
       "      <td>0.000000</td>\n",
       "    </tr>\n",
       "    <tr>\n",
       "      <th>fashion_esporte</th>\n",
       "      <td>fashion_esporte</td>\n",
       "      <td>0.000000</td>\n",
       "    </tr>\n",
       "    <tr>\n",
       "      <th>la_cuisine</th>\n",
       "      <td>la_cuisine</td>\n",
       "      <td>0.000000</td>\n",
       "    </tr>\n",
       "    <tr>\n",
       "      <th>pc_gamer</th>\n",
       "      <td>pc_gamer</td>\n",
       "      <td>0.000000</td>\n",
       "    </tr>\n",
       "    <tr>\n",
       "      <th>seguros_e_servicos</th>\n",
       "      <td>seguros_e_servicos</td>\n",
       "      <td>0.000000</td>\n",
       "    </tr>\n",
       "    <tr>\n",
       "      <th>dvds_blu_ray</th>\n",
       "      <td>dvds_blu_ray</td>\n",
       "      <td>0.000000</td>\n",
       "    </tr>\n",
       "    <tr>\n",
       "      <th>industria_comercio_e_negocios</th>\n",
       "      <td>industria_comercio_e_negocios</td>\n",
       "      <td>0.000000</td>\n",
       "    </tr>\n",
       "    <tr>\n",
       "      <th>casa_conforto_2</th>\n",
       "      <td>casa_conforto_2</td>\n",
       "      <td>0.000000</td>\n",
       "    </tr>\n",
       "    <tr>\n",
       "      <th>moveis_cozinha_area_de_servico_jantar_e_jardim</th>\n",
       "      <td>moveis_cozinha_area_de_servico_jantar_e_jardim</td>\n",
       "      <td>0.000000</td>\n",
       "    </tr>\n",
       "    <tr>\n",
       "      <th>pcs</th>\n",
       "      <td>pcs</td>\n",
       "      <td>0.000000</td>\n",
       "    </tr>\n",
       "    <tr>\n",
       "      <th>fashion_roupa_feminina</th>\n",
       "      <td>fashion_roupa_feminina</td>\n",
       "      <td>0.000000</td>\n",
       "    </tr>\n",
       "    <tr>\n",
       "      <th>flores</th>\n",
       "      <td>flores</td>\n",
       "      <td>0.000000</td>\n",
       "    </tr>\n",
       "    <tr>\n",
       "      <th>fashion_calcados</th>\n",
       "      <td>fashion_calcados</td>\n",
       "      <td>0.000000</td>\n",
       "    </tr>\n",
       "    <tr>\n",
       "      <th>musica</th>\n",
       "      <td>musica</td>\n",
       "      <td>0.000000</td>\n",
       "    </tr>\n",
       "    <tr>\n",
       "      <th>portateis_casa_forno_e_cafe</th>\n",
       "      <td>portateis_casa_forno_e_cafe</td>\n",
       "      <td>0.000000</td>\n",
       "    </tr>\n",
       "    <tr>\n",
       "      <th>fraldas_higiene</th>\n",
       "      <td>fraldas_higiene</td>\n",
       "      <td>0.000000</td>\n",
       "    </tr>\n",
       "    <tr>\n",
       "      <th>fashion_roupa_masculina</th>\n",
       "      <td>fashion_roupa_masculina</td>\n",
       "      <td>0.000000</td>\n",
       "    </tr>\n",
       "    <tr>\n",
       "      <th>fashion_roupa_infanto_juvenil</th>\n",
       "      <td>fashion_roupa_infanto_juvenil</td>\n",
       "      <td>0.000000</td>\n",
       "    </tr>\n",
       "  </tbody>\n",
       "</table>\n",
       "<p>73 rows × 2 columns</p>\n",
       "</div>"
      ],
      "text/plain": [
       "                                                                                      category  \\\n",
       "artes_e_artesanato                                                          artes_e_artesanato   \n",
       "construcao_ferramentas_seguranca                              construcao_ferramentas_seguranca   \n",
       "fashion_underwear_e_moda_praia                                  fashion_underwear_e_moda_praia   \n",
       "livros_importados                                                            livros_importados   \n",
       "eletrodomesticos_2                                                          eletrodomesticos_2   \n",
       "market_place                                                                      market_place   \n",
       "cine_foto                                                                            cine_foto   \n",
       "sinalizacao_e_seguranca                                                sinalizacao_e_seguranca   \n",
       "moveis_escritorio                                                            moveis_escritorio   \n",
       "climatizacao                                                                      climatizacao   \n",
       "moveis_quarto                                                                    moveis_quarto   \n",
       "automotivo                                                                          automotivo   \n",
       "construcao_ferramentas_construcao                            construcao_ferramentas_construcao   \n",
       "construcao_ferramentas_iluminacao                            construcao_ferramentas_iluminacao   \n",
       "relogios_presentes                                                          relogios_presentes   \n",
       "eletronicos                                                                        eletronicos   \n",
       "ferramentas_jardim                                                          ferramentas_jardim   \n",
       "bebes                                                                                    bebes   \n",
       "telefonia_fixa                                                                  telefonia_fixa   \n",
       "telefonia                                                                            telefonia   \n",
       "moveis_sala                                                                        moveis_sala   \n",
       "eletrodomesticos                                                              eletrodomesticos   \n",
       "fashion_bolsas_e_acessorios                                        fashion_bolsas_e_acessorios   \n",
       "malas_acessorios                                                              malas_acessorios   \n",
       "moveis_decoracao                                                              moveis_decoracao   \n",
       "pet_shop                                                                              pet_shop   \n",
       "livros_interesse_geral                                                  livros_interesse_geral   \n",
       "artigos_de_natal                                                              artigos_de_natal   \n",
       "casa_construcao                                                                casa_construcao   \n",
       "utilidades_domesticas                                                    utilidades_domesticas   \n",
       "...                                                                                        ...   \n",
       "audio                                                                                    audio   \n",
       "artes                                                                                    artes   \n",
       "construcao_ferramentas_jardim                                    construcao_ferramentas_jardim   \n",
       "alimentos_bebidas                                                            alimentos_bebidas   \n",
       "eletroportateis                                                                eletroportateis   \n",
       "casa_conforto                                                                    casa_conforto   \n",
       "artigos_de_festas                                                            artigos_de_festas   \n",
       "cds_dvds_musicais                                                            cds_dvds_musicais   \n",
       "moveis_colchao_e_estofado                                            moveis_colchao_e_estofado   \n",
       "tablets_impressao_imagem                                              tablets_impressao_imagem   \n",
       "livros_tecnicos                                                                livros_tecnicos   \n",
       "construcao_ferramentas_ferramentas                          construcao_ferramentas_ferramentas   \n",
       "portateis_cozinha_e_preparadores_de_alimentos    portateis_cozinha_e_preparadores_de_alimentos   \n",
       "fashion_esporte                                                                fashion_esporte   \n",
       "la_cuisine                                                                          la_cuisine   \n",
       "pc_gamer                                                                              pc_gamer   \n",
       "seguros_e_servicos                                                          seguros_e_servicos   \n",
       "dvds_blu_ray                                                                      dvds_blu_ray   \n",
       "industria_comercio_e_negocios                                    industria_comercio_e_negocios   \n",
       "casa_conforto_2                                                                casa_conforto_2   \n",
       "moveis_cozinha_area_de_servico_jantar_e_jardim  moveis_cozinha_area_de_servico_jantar_e_jardim   \n",
       "pcs                                                                                        pcs   \n",
       "fashion_roupa_feminina                                                  fashion_roupa_feminina   \n",
       "flores                                                                                  flores   \n",
       "fashion_calcados                                                              fashion_calcados   \n",
       "musica                                                                                  musica   \n",
       "portateis_casa_forno_e_cafe                                        portateis_casa_forno_e_cafe   \n",
       "fraldas_higiene                                                                fraldas_higiene   \n",
       "fashion_roupa_masculina                                                fashion_roupa_masculina   \n",
       "fashion_roupa_infanto_juvenil                                    fashion_roupa_infanto_juvenil   \n",
       "\n",
       "                                                    rate  \n",
       "artes_e_artesanato                              0.047619  \n",
       "construcao_ferramentas_seguranca                0.025000  \n",
       "fashion_underwear_e_moda_praia                  0.024590  \n",
       "livros_importados                               0.021739  \n",
       "eletrodomesticos_2                              0.019231  \n",
       "market_place                                    0.017986  \n",
       "cine_foto                                       0.016949  \n",
       "sinalizacao_e_seguranca                         0.012903  \n",
       "moveis_escritorio                               0.012739  \n",
       "climatizacao                                    0.012448  \n",
       "moveis_quarto                                   0.012346  \n",
       "automotivo                                      0.011634  \n",
       "construcao_ferramentas_construcao               0.011335  \n",
       "construcao_ferramentas_iluminacao               0.011029  \n",
       "relogios_presentes                              0.010481  \n",
       "eletronicos                                     0.010212  \n",
       "ferramentas_jardim                              0.010030  \n",
       "bebes                                           0.009760  \n",
       "telefonia_fixa                                  0.009662  \n",
       "telefonia                                       0.009323  \n",
       "moveis_sala                                     0.009153  \n",
       "eletrodomesticos                                0.009063  \n",
       "fashion_bolsas_e_acessorios                     0.008989  \n",
       "malas_acessorios                                0.008448  \n",
       "moveis_decoracao                                0.008277  \n",
       "pet_shop                                        0.008154  \n",
       "livros_interesse_geral                          0.008016  \n",
       "artigos_de_natal                                0.007812  \n",
       "casa_construcao                                 0.007547  \n",
       "utilidades_domesticas                           0.007508  \n",
       "...                                                  ...  \n",
       "audio                                           0.005747  \n",
       "artes                                           0.005376  \n",
       "construcao_ferramentas_jardim                   0.004854  \n",
       "alimentos_bebidas                               0.004098  \n",
       "eletroportateis                                 0.003745  \n",
       "casa_conforto                                   0.002488  \n",
       "artigos_de_festas                               0.000000  \n",
       "cds_dvds_musicais                               0.000000  \n",
       "moveis_colchao_e_estofado                       0.000000  \n",
       "tablets_impressao_imagem                        0.000000  \n",
       "livros_tecnicos                                 0.000000  \n",
       "construcao_ferramentas_ferramentas              0.000000  \n",
       "portateis_cozinha_e_preparadores_de_alimentos   0.000000  \n",
       "fashion_esporte                                 0.000000  \n",
       "la_cuisine                                      0.000000  \n",
       "pc_gamer                                        0.000000  \n",
       "seguros_e_servicos                              0.000000  \n",
       "dvds_blu_ray                                    0.000000  \n",
       "industria_comercio_e_negocios                   0.000000  \n",
       "casa_conforto_2                                 0.000000  \n",
       "moveis_cozinha_area_de_servico_jantar_e_jardim  0.000000  \n",
       "pcs                                             0.000000  \n",
       "fashion_roupa_feminina                          0.000000  \n",
       "flores                                          0.000000  \n",
       "fashion_calcados                                0.000000  \n",
       "musica                                          0.000000  \n",
       "portateis_casa_forno_e_cafe                     0.000000  \n",
       "fraldas_higiene                                 0.000000  \n",
       "fashion_roupa_masculina                         0.000000  \n",
       "fashion_roupa_infanto_juvenil                   0.000000  \n",
       "\n",
       "[73 rows x 2 columns]"
      ]
     },
     "execution_count": 153,
     "metadata": {},
     "output_type": "execute_result"
    }
   ],
   "source": [
    "recurrence_by_category.sort_values(by='rate', ascending=False)"
   ]
  },
  {
   "cell_type": "code",
   "execution_count": null,
   "metadata": {},
   "outputs": [],
   "source": []
  }
 ],
 "metadata": {
  "kernelspec": {
   "display_name": "Python 3",
   "language": "python",
   "name": "python3"
  },
  "language_info": {
   "codemirror_mode": {
    "name": "ipython",
    "version": 3
   },
   "file_extension": ".py",
   "mimetype": "text/x-python",
   "name": "python",
   "nbconvert_exporter": "python",
   "pygments_lexer": "ipython3",
   "version": "3.6.7"
  }
 },
 "nbformat": 4,
 "nbformat_minor": 2
}
