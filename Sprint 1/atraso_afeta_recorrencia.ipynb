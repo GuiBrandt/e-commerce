{
 "cells": [
  {
   "cell_type": "markdown",
   "metadata": {},
   "source": [
    "## Hipótese: o atraso nas entregas afetam se as pessoas voltam ou não"
   ]
  },
  {
   "cell_type": "code",
   "execution_count": 1,
   "metadata": {},
   "outputs": [],
   "source": [
    "import pandas as pd\n",
    "import numpy as np\n",
    "import matplotlib.pyplot as plt\n",
    "import scipy.stats as stats\n",
    "import math"
   ]
  },
  {
   "cell_type": "markdown",
   "metadata": {},
   "source": [
    "### Carregamento dos dados"
   ]
  },
  {
   "cell_type": "code",
   "execution_count": 2,
   "metadata": {},
   "outputs": [
    {
     "data": {
      "text/plain": [
       "Unnamed: 0                       99441\n",
       "order_id                         99441\n",
       "customer_unique_id               99441\n",
       "customer_city                    99441\n",
       "customer_state                   99441\n",
       "order_approved_at                99281\n",
       "order_purchase_timestamp         99441\n",
       "order_estimated_delivery_date    99441\n",
       "order_delivered_carrier_date     97658\n",
       "order_delivered_customer_date    96476\n",
       "dtype: int64"
      ]
     },
     "execution_count": 2,
     "metadata": {},
     "output_type": "execute_result"
    }
   ],
   "source": [
    "all_orders = pd.read_csv(\"../datasets/trusted/all_orders.csv\")\n",
    "all_orders.count()"
   ]
  },
  {
   "cell_type": "code",
   "execution_count": 3,
   "metadata": {},
   "outputs": [
    {
     "data": {
      "text/plain": [
       "Unnamed: 0                       2997\n",
       "Unnamed: 0.1                     2997\n",
       "order_id                         2997\n",
       "customer_unique_id               2997\n",
       "customer_city                    2997\n",
       "customer_state                   2997\n",
       "order_approved_at                2992\n",
       "order_purchase_timestamp         2997\n",
       "order_estimated_delivery_date    2997\n",
       "order_delivered_carrier_date     2953\n",
       "order_delivered_customer_date    2917\n",
       "dtype: int64"
      ]
     },
     "execution_count": 3,
     "metadata": {},
     "output_type": "execute_result"
    }
   ],
   "source": [
    "more_than_once = pd.read_csv(\"../datasets/trusted/more_than_once.csv\")\n",
    "more_than_once.count()"
   ]
  },
  {
   "cell_type": "markdown",
   "metadata": {},
   "source": [
    "### Análise dos atrasos"
   ]
  },
  {
   "cell_type": "code",
   "execution_count": 4,
   "metadata": {},
   "outputs": [],
   "source": [
    "def delivery_delay(order):\n",
    "    estimated = pd.to_datetime(order['order_estimated_delivery_date'])\n",
    "    delivered = pd.to_datetime(order['order_delivered_customer_date'])\n",
    "    return delivered - estimated"
   ]
  },
  {
   "cell_type": "code",
   "execution_count": 5,
   "metadata": {},
   "outputs": [],
   "source": [
    "delays_in_days_mto = delivery_delay(more_than_once) / np.timedelta64(24, 'h')\n",
    "delays_in_days_all = delivery_delay(all_orders) / np.timedelta64(24, 'h')"
   ]
  },
  {
   "cell_type": "code",
   "execution_count": 6,
   "metadata": {},
   "outputs": [
    {
     "data": {
      "text/plain": [
       "<matplotlib.axes._subplots.AxesSubplot at 0x7ff8f1ee26a0>"
      ]
     },
     "execution_count": 6,
     "metadata": {},
     "output_type": "execute_result"
    },
    {
     "data": {
      "image/png": "[encoded data removed]",
      "text/plain": [
       "<Figure size 1152x288 with 1 Axes>"
      ]
     },
     "metadata": {
      "needs_background": "light"
     },
     "output_type": "display_data"
    }
   ],
   "source": [
    "delays_in_days_mto.plot.kde(\n",
    "    figsize=(16, 4),\n",
    "    xticks=range(int(delays_in_days_mto.min()),\n",
    "                 int(delays_in_days_mto.max()),\n",
    "                 10),\n",
    "    rot=75,\n",
    "    grid=True)\n",
    "\n",
    "delays_in_days_all.plot.kde(\n",
    "    figsize=(16, 4),\n",
    "    xticks=range(int(delays_in_days_all.min()),\n",
    "                 int(delays_in_days_all.max()),\n",
    "                 10),\n",
    "    rot=75,\n",
    "    grid=True)"
   ]
  },
  {
   "cell_type": "code",
   "execution_count": 7,
   "metadata": {},
   "outputs": [
    {
     "data": {
      "text/plain": [
       "count    82.000000\n",
       "mean      0.012195\n",
       "std       0.018102\n",
       "min       0.000343\n",
       "25%       0.000686\n",
       "50%       0.003085\n",
       "75%       0.015598\n",
       "max       0.071992\n",
       "dtype: float64"
      ]
     },
     "execution_count": 7,
     "metadata": {},
     "output_type": "execute_result"
    }
   ],
   "source": [
    "ddmto = delays_in_days_mto.dropna().map(lambda x: math.trunc(x)).value_counts(normalize=True).sort_index()\n",
    "ddmto.describe()"
   ]
  },
  {
   "cell_type": "code",
   "execution_count": 8,
   "metadata": {},
   "outputs": [
    {
     "data": {
      "text/plain": [
       "count    82.000000\n",
       "mean      0.012111\n",
       "std       0.017925\n",
       "min       0.000021\n",
       "25%       0.000697\n",
       "50%       0.002679\n",
       "75%       0.017473\n",
       "max       0.073863\n",
       "dtype: float64"
      ]
     },
     "execution_count": 8,
     "metadata": {},
     "output_type": "execute_result"
    }
   ],
   "source": [
    "ddall = delays_in_days_all.dropna().map(lambda x:math.trunc(x)).value_counts(normalize=True)[ddmto.index].sort_index()\n",
    "ddall.describe()"
   ]
  },
  {
   "cell_type": "code",
   "execution_count": 9,
   "metadata": {},
   "outputs": [
    {
     "data": {
      "text/plain": [
       "0.6759162116277826"
      ]
     },
     "execution_count": 9,
     "metadata": {},
     "output_type": "execute_result"
    }
   ],
   "source": [
    "stats.kruskal(ddmto.values, ddall.values).pvalue"
   ]
  },
  {
   "cell_type": "markdown",
   "metadata": {},
   "source": [
    "A maioria das entregas para clientes que voltam acontecem dentro do prazo estipulado, e em sua maior parte adiantadas, com o pico no KDE no valor de -12 dias de \"atraso\", ou seja, 12 dias adiantado."
   ]
  },
  {
   "cell_type": "markdown",
   "metadata": {},
   "source": [
    "Para o total das entregas, no entanto, observa-se o mesmo padrão. Simultaneamente, o teste de Kruskal-Wallis apresenta um elevado p-value de aproximadamente 68%, o que indica que há uma boa chance de que as datas previstas e as datas de entrega apresentem a mesma distribuição tanto para a primeira compra quanto para os retornos. É possível que as entregas adiantadas não sejam a causa da volta dos clientes para mais compras."
   ]
  },
  {
   "cell_type": "code",
   "execution_count": null,
   "metadata": {},
   "outputs": [],
   "source": []
  }
 ],
 "metadata": {
  "kernelspec": {
   "display_name": "Python 3",
   "language": "python",
   "name": "python3"
  },
  "language_info": {
   "codemirror_mode": {
    "name": "ipython",
    "version": 3
   },
   "file_extension": ".py",
   "mimetype": "text/x-python",
   "name": "python",
   "nbconvert_exporter": "python",
   "pygments_lexer": "ipython3",
   "version": "3.6.7"
  }
 },
 "nbformat": 4,
 "nbformat_minor": 2
}
