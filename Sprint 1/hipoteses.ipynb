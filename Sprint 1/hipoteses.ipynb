{
 "cells": [
  {
   "cell_type": "markdown",
   "metadata": {},
   "source": [
    "# Hipóteses\n",
    "\n",
    "#### Recomendador de conteúdo\n",
    "1. [Compras em uma categoria levam a compras em outras categorias](relacao_categorias.ipynb) (Confirmada)\n",
    "- [Quem compra de uma categoria tende a comprar da mesma categoria novamente](recorrencia_mesma_categoria.ipynb) (Confirmada)\n",
    "\n",
    "#### Estratégia de negócio\n",
    "1. [Região do cliente influencia nas categorias das quais ele compra](regiao_categoria.ipynb) (Falsa)\n",
    "- [Atraso nas entregas afeta se as pessoas voltam ou não](atraso_afeta_recorrencia.ipynb) (Falsa)\n",
    "- [Algumas categorias tem recorrência mais alta do que outras](recorrencia_por_categoria.ipynb) (Confirmada)\n",
    "- [Região do cliente influencia se ele volta a comprar](regiao_afeta_recorrencia.ipynb) (Falsa)"
   ]
  },
  {
   "cell_type": "code",
   "execution_count": null,
   "metadata": {},
   "outputs": [],
   "source": []
  }
 ],
 "metadata": {
  "kernelspec": {
   "display_name": "Python 3",
   "language": "python",
   "name": "python3"
  },
  "language_info": {
   "codemirror_mode": {
    "name": "ipython",
    "version": 3
   },
   "file_extension": ".py",
   "mimetype": "text/x-python",
   "name": "python",
   "nbconvert_exporter": "python",
   "pygments_lexer": "ipython3",
   "version": "3.6.7"
  }
 },
 "nbformat": 4,
 "nbformat_minor": 2
}
