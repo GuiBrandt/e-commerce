{
 "cells": [
  {
   "cell_type": "markdown",
   "metadata": {},
   "source": [
    "# 1. \"A quantidade de pedido mensal segue um padrão sazonal\""
   ]
  },
  {
   "cell_type": "code",
   "execution_count": 1,
   "metadata": {},
   "outputs": [],
   "source": [
    "from scipy import stats\n",
    "\n",
    "import pandas as pd\n",
    "import numpy as np\n",
    "\n",
    "import matplotlib.pyplot as plt"
   ]
  },
  {
   "cell_type": "code",
   "execution_count": 2,
   "metadata": {},
   "outputs": [
    {
     "data": {
      "text/plain": [
       "Unnamed: 0                       93011\n",
       "order_id                         93011\n",
       "customer_id                      93011\n",
       "order_approved_at                92997\n",
       "order_purchase_timestamp         93011\n",
       "order_estimated_delivery_date    93011\n",
       "order_delivered_carrier_date     93009\n",
       "order_delivered_customer_date    93003\n",
       "dtype: int64"
      ]
     },
     "execution_count": 2,
     "metadata": {},
     "output_type": "execute_result"
    }
   ],
   "source": [
    "orders = pd.read_csv(\"../datasets/trusted/delivered_orders.csv\")\n",
    "orders.count()"
   ]
  },
  {
   "cell_type": "code",
   "execution_count": 51,
   "metadata": {},
   "outputs": [
    {
     "data": {
      "text/plain": [
       "20"
      ]
     },
     "execution_count": 51,
     "metadata": {},
     "output_type": "execute_result"
    }
   ],
   "source": [
    "purchase_time = pd.to_datetime(orders['order_purchase_timestamp'])\n",
    "\n",
    "orders_by_year_and_month = pd.DataFrame({\n",
    "        'id': orders['order_id'],\n",
    "        'year': purchase_time.dt.year,\n",
    "        'month': purchase_time.dt.month,\n",
    "        'day': purchase_time.dt.day,\n",
    "})\n",
    "\n",
    "count_by_month = orders_by_year_and_month.groupby(['year', 'month', 'day']).agg(['count'])\n",
    "\n",
    "count_by_month['id'] = np.fft.fft(count_by_month['id'], axis=0)\n",
    "count_by_month = count_by_month.reset_index().groupby(['year', 'month'])\n",
    "months = count_by_month.groups\n",
    "len(months.keys())"
   ]
  },
  {
   "cell_type": "code",
   "execution_count": 52,
   "metadata": {},
   "outputs": [
    {
     "name": "stdout",
     "output_type": "stream",
     "text": [
      "55.13510766856656%\n"
     ]
    }
   ],
   "source": [
    "populations = [count_by_month.get_group(m)['id'].iloc[:, 0].values for m in months]\n",
    "\n",
    "print(stats.kruskal(*populations).pvalue * 100, \"%\", sep='')"
   ]
  },
  {
   "cell_type": "code",
   "execution_count": 53,
   "metadata": {},
   "outputs": [
    {
     "name": "stdout",
     "output_type": "stream",
     "text": [
      "0.1745118699528908%\n"
     ]
    },
    {
     "name": "stderr",
     "output_type": "stream",
     "text": [
      "/home/guilherme.brandt/.local/lib/python3.6/site-packages/numpy/core/numeric.py:538: ComplexWarning: Casting complex values to real discards the imaginary part\n",
      "  return array(a, dtype, copy=False, order=order)\n"
     ]
    },
    {
     "data": {
      "image/png": "[encoded data removed]",
      "text/plain": [
       "<Figure size 432x288 with 1 Axes>"
      ]
     },
     "metadata": {
      "needs_background": "light"
     },
     "output_type": "display_data"
    }
   ],
   "source": [
    "count_by_year = orders_by_year_and_month.groupby(['year', 'month']).agg(['count'])\n",
    "\n",
    "fourier_2017 = np.fft.fft(count_by_year['id'][:8], axis=0)[1:]\n",
    "fourier_2018 = np.fft.fft(count_by_year['id'][12:], axis=0)[1:]\n",
    "\n",
    "plt.plot(fourier_2017)\n",
    "plt.plot(fourier_2018)\n",
    "print(stats.kruskal(fourier_2017, fourier_2018).pvalue * 100, \"%\", sep='')"
   ]
  },
  {
   "cell_type": "code",
   "execution_count": null,
   "metadata": {},
   "outputs": [],
   "source": []
  }
 ],
 "metadata": {
  "kernelspec": {
   "display_name": "Python 3",
   "language": "python",
   "name": "python3"
  },
  "language_info": {
   "codemirror_mode": {
    "name": "ipython",
    "version": 3
   },
   "file_extension": ".py",
   "mimetype": "text/x-python",
   "name": "python",
   "nbconvert_exporter": "python",
   "pygments_lexer": "ipython3",
   "version": "3.6.7"
  }
 },
 "nbformat": 4,
 "nbformat_minor": 2
}
