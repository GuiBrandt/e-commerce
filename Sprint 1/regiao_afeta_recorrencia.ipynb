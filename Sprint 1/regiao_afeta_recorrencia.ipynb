{
 "cells": [
  {
   "cell_type": "markdown",
   "metadata": {},
   "source": [
    "## Hipótese: a região dos consumidores afeta se eles voltam a comprar ou não"
   ]
  },
  {
   "cell_type": "code",
   "execution_count": 9,
   "metadata": {},
   "outputs": [],
   "source": [
    "import pandas as pd\n",
    "import matplotlib.pyplot as plt\n",
    "import scipy.stats as stats"
   ]
  },
  {
   "cell_type": "markdown",
   "metadata": {},
   "source": [
    "### Carregamento dos dados"
   ]
  },
  {
   "cell_type": "code",
   "execution_count": 10,
   "metadata": {},
   "outputs": [
    {
     "data": {
      "text/plain": [
       "order_id                         99441\n",
       "customer_unique_id               99441\n",
       "customer_city                    99441\n",
       "customer_state                   99441\n",
       "order_approved_at                99281\n",
       "order_purchase_timestamp         99441\n",
       "order_estimated_delivery_date    99441\n",
       "order_delivered_carrier_date     97658\n",
       "order_delivered_customer_date    96476\n",
       "dtype: int64"
      ]
     },
     "execution_count": 10,
     "metadata": {},
     "output_type": "execute_result"
    }
   ],
   "source": [
    "all_orders = pd.read_csv(\"../datasets/trusted/all_orders.csv\", index_col=0)\n",
    "all_orders.count()"
   ]
  },
  {
   "cell_type": "code",
   "execution_count": 11,
   "metadata": {},
   "outputs": [
    {
     "data": {
      "text/plain": [
       "order_id                         2997\n",
       "customer_unique_id               2997\n",
       "customer_city                    2997\n",
       "customer_state                   2997\n",
       "order_approved_at                2992\n",
       "order_purchase_timestamp         2997\n",
       "order_estimated_delivery_date    2997\n",
       "order_delivered_carrier_date     2953\n",
       "order_delivered_customer_date    2917\n",
       "dtype: int64"
      ]
     },
     "execution_count": 11,
     "metadata": {},
     "output_type": "execute_result"
    }
   ],
   "source": [
    "more_than_once = pd.read_csv(\"../datasets/trusted/more_than_once.csv\", index_col=0)\n",
    "more_than_once.count()"
   ]
  },
  {
   "cell_type": "markdown",
   "metadata": {},
   "source": [
    "### Análise por estado"
   ]
  },
  {
   "cell_type": "code",
   "execution_count": 4,
   "metadata": {},
   "outputs": [
    {
     "data": {
      "text/plain": [
       "<matplotlib.axes._subplots.AxesSubplot at 0x7ffb4d79e978>"
      ]
     },
     "execution_count": 4,
     "metadata": {},
     "output_type": "execute_result"
    },
    {
     "data": {
      "image/png": "[encoded data removed]",
      "text/plain": [
       "<Figure size 432x288 with 1 Axes>"
      ]
     },
     "metadata": {
      "needs_background": "light"
     },
     "output_type": "display_data"
    }
   ],
   "source": [
    "mto_by_state = more_than_once.groupby(['customer_state']).agg('count')['order_id']\n",
    "(mto_by_state / more_than_once.count()[0]).plot.bar()"
   ]
  },
  {
   "cell_type": "markdown",
   "metadata": {},
   "source": [
    "A maior parte dos clientes que volta é do estado de são paulo."
   ]
  },
  {
   "cell_type": "code",
   "execution_count": 5,
   "metadata": {},
   "outputs": [
    {
     "data": {
      "text/plain": [
       "<matplotlib.axes._subplots.AxesSubplot at 0x7ffb4dbc4550>"
      ]
     },
     "execution_count": 5,
     "metadata": {},
     "output_type": "execute_result"
    },
    {
     "data": {
      "image/png": "[encoded data removed]",
      "text/plain": [
       "<Figure size 432x288 with 1 Axes>"
      ]
     },
     "metadata": {
      "needs_background": "light"
     },
     "output_type": "display_data"
    }
   ],
   "source": [
    "all_by_state = all_orders.groupby(['customer_state']).agg('count')['order_id']\n",
    "(all_by_state / all_orders.count()[0]).plot.bar()"
   ]
  },
  {
   "cell_type": "code",
   "execution_count": 6,
   "metadata": {},
   "outputs": [
    {
     "data": {
      "text/plain": [
       "<matplotlib.axes._subplots.AxesSubplot at 0x7ffb4da1a0f0>"
      ]
     },
     "execution_count": 6,
     "metadata": {},
     "output_type": "execute_result"
    },
    {
     "data": {
      "image/png": "[encoded data removed]",
      "text/plain": [
       "<Figure size 432x288 with 1 Axes>"
      ]
     },
     "metadata": {
      "needs_background": "light"
     },
     "output_type": "display_data"
    }
   ],
   "source": [
    "(mto_by_state / all_by_state).plot.bar()"
   ]
  },
  {
   "cell_type": "code",
   "execution_count": 7,
   "metadata": {},
   "outputs": [
    {
     "data": {
      "text/plain": [
       "0.9994653387646663"
      ]
     },
     "execution_count": 7,
     "metadata": {},
     "output_type": "execute_result"
    }
   ],
   "source": [
    "pd.DataFrame({'mto': mto_by_state, 'all': all_by_state }).corr()['mto']['all']"
   ]
  },
  {
   "cell_type": "code",
   "execution_count": 8,
   "metadata": {},
   "outputs": [
    {
     "name": "stdout",
     "output_type": "stream",
     "text": [
      "88.30838631048043%\n"
     ]
    }
   ],
   "source": [
    "print(stats.kruskal(all_by_state / all_orders.count()[0], mto_by_state / more_than_once.count()[0]).pvalue * 100, '%', sep='')"
   ]
  },
  {
   "cell_type": "markdown",
   "metadata": {},
   "source": [
    "Fazendo uma análise da quantidade de clientes por estado, porém, percebe-se que a distribuição é quase exatamente a mesma. O P-Value para o teste de kruskal também é alto, indicando alta probabilidade de que a distribuição é idêntica.\n",
    "\n",
    "É razoável assumir que o estado não tem nenhum tipo de efeito em se o cliente volta a comprar ou não."
   ]
  },
  {
   "cell_type": "code",
   "execution_count": null,
   "metadata": {},
   "outputs": [],
   "source": []
  }
 ],
 "metadata": {
  "kernelspec": {
   "display_name": "Python 3",
   "language": "python",
   "name": "python3"
  },
  "language_info": {
   "codemirror_mode": {
    "name": "ipython",
    "version": 3
   },
   "file_extension": ".py",
   "mimetype": "text/x-python",
   "name": "python",
   "nbconvert_exporter": "python",
   "pygments_lexer": "ipython3",
   "version": "3.6.7"
  }
 },
 "nbformat": 4,
 "nbformat_minor": 2
}
