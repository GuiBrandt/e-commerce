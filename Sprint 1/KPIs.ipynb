{
 "cells": [
  {
   "cell_type": "markdown",
   "metadata": {},
   "source": [
    "# KPIs"
   ]
  },
  {
   "cell_type": "code",
   "execution_count": 1,
   "metadata": {},
   "outputs": [],
   "source": [
    "import pandas as pd\n",
    "import numpy as np\n",
    "\n",
    "import matplotlib.pyplot as plt"
   ]
  },
  {
   "cell_type": "markdown",
   "metadata": {},
   "source": [
    "## 1. Quantidade de pedidos mensal, trimestral e anual"
   ]
  },
  {
   "cell_type": "code",
   "execution_count": 2,
   "metadata": {
    "scrolled": true
   },
   "outputs": [
    {
     "data": {
      "text/plain": [
       "Unnamed: 0                       96211\n",
       "order_id                         96211\n",
       "customer_id                      96211\n",
       "order_approved_at                96197\n",
       "order_purchase_timestamp         96211\n",
       "order_estimated_delivery_date    96211\n",
       "order_delivered_carrier_date     96209\n",
       "order_delivered_customer_date    96203\n",
       "dtype: int64"
      ]
     },
     "execution_count": 2,
     "metadata": {},
     "output_type": "execute_result"
    }
   ],
   "source": [
    "orders = pd.read_csv(\"../datasets/trusted/delivered_orders.csv\")\n",
    "orders.count()"
   ]
  },
  {
   "cell_type": "code",
   "execution_count": 3,
   "metadata": {
    "scrolled": true
   },
   "outputs": [
    {
     "data": {
      "text/html": [
       "<div>\n",
       "<style scoped>\n",
       "    .dataframe tbody tr th:only-of-type {\n",
       "        vertical-align: middle;\n",
       "    }\n",
       "\n",
       "    .dataframe tbody tr th {\n",
       "        vertical-align: top;\n",
       "    }\n",
       "\n",
       "    .dataframe thead tr th {\n",
       "        text-align: left;\n",
       "    }\n",
       "\n",
       "    .dataframe thead tr:last-of-type th {\n",
       "        text-align: right;\n",
       "    }\n",
       "</style>\n",
       "<table border=\"1\" class=\"dataframe\">\n",
       "  <thead>\n",
       "    <tr>\n",
       "      <th></th>\n",
       "      <th></th>\n",
       "      <th>id</th>\n",
       "    </tr>\n",
       "    <tr>\n",
       "      <th></th>\n",
       "      <th></th>\n",
       "      <th>count</th>\n",
       "    </tr>\n",
       "    <tr>\n",
       "      <th>year</th>\n",
       "      <th>month</th>\n",
       "      <th></th>\n",
       "    </tr>\n",
       "  </thead>\n",
       "  <tbody>\n",
       "    <tr>\n",
       "      <th rowspan=\"12\" valign=\"top\">2017</th>\n",
       "      <th>1</th>\n",
       "      <td>750</td>\n",
       "    </tr>\n",
       "    <tr>\n",
       "      <th>2</th>\n",
       "      <td>1653</td>\n",
       "    </tr>\n",
       "    <tr>\n",
       "      <th>3</th>\n",
       "      <td>2546</td>\n",
       "    </tr>\n",
       "    <tr>\n",
       "      <th>4</th>\n",
       "      <td>2303</td>\n",
       "    </tr>\n",
       "    <tr>\n",
       "      <th>5</th>\n",
       "      <td>3546</td>\n",
       "    </tr>\n",
       "    <tr>\n",
       "      <th>6</th>\n",
       "      <td>3135</td>\n",
       "    </tr>\n",
       "    <tr>\n",
       "      <th>7</th>\n",
       "      <td>3872</td>\n",
       "    </tr>\n",
       "    <tr>\n",
       "      <th>8</th>\n",
       "      <td>4193</td>\n",
       "    </tr>\n",
       "    <tr>\n",
       "      <th>9</th>\n",
       "      <td>4150</td>\n",
       "    </tr>\n",
       "    <tr>\n",
       "      <th>10</th>\n",
       "      <td>4478</td>\n",
       "    </tr>\n",
       "    <tr>\n",
       "      <th>11</th>\n",
       "      <td>7289</td>\n",
       "    </tr>\n",
       "    <tr>\n",
       "      <th>12</th>\n",
       "      <td>5513</td>\n",
       "    </tr>\n",
       "    <tr>\n",
       "      <th rowspan=\"8\" valign=\"top\">2018</th>\n",
       "      <th>1</th>\n",
       "      <td>7069</td>\n",
       "    </tr>\n",
       "    <tr>\n",
       "      <th>2</th>\n",
       "      <td>6555</td>\n",
       "    </tr>\n",
       "    <tr>\n",
       "      <th>3</th>\n",
       "      <td>7003</td>\n",
       "    </tr>\n",
       "    <tr>\n",
       "      <th>4</th>\n",
       "      <td>6798</td>\n",
       "    </tr>\n",
       "    <tr>\n",
       "      <th>5</th>\n",
       "      <td>6749</td>\n",
       "    </tr>\n",
       "    <tr>\n",
       "      <th>6</th>\n",
       "      <td>6099</td>\n",
       "    </tr>\n",
       "    <tr>\n",
       "      <th>7</th>\n",
       "      <td>6159</td>\n",
       "    </tr>\n",
       "    <tr>\n",
       "      <th>8</th>\n",
       "      <td>6351</td>\n",
       "    </tr>\n",
       "  </tbody>\n",
       "</table>\n",
       "</div>"
      ],
      "text/plain": [
       "              id\n",
       "           count\n",
       "year month      \n",
       "2017 1       750\n",
       "     2      1653\n",
       "     3      2546\n",
       "     4      2303\n",
       "     5      3546\n",
       "     6      3135\n",
       "     7      3872\n",
       "     8      4193\n",
       "     9      4150\n",
       "     10     4478\n",
       "     11     7289\n",
       "     12     5513\n",
       "2018 1      7069\n",
       "     2      6555\n",
       "     3      7003\n",
       "     4      6798\n",
       "     5      6749\n",
       "     6      6099\n",
       "     7      6159\n",
       "     8      6351"
      ]
     },
     "execution_count": 3,
     "metadata": {},
     "output_type": "execute_result"
    }
   ],
   "source": [
    "purchase_time = pd.to_datetime(orders['order_purchase_timestamp'])\n",
    "\n",
    "orders_by_year_and_month = pd.DataFrame({\n",
    "        'id': orders['order_id'],\n",
    "        'year': purchase_time.dt.year,\n",
    "        'month': purchase_time.dt.month\n",
    "})\n",
    "\n",
    "count_by_month = orders_by_year_and_month.groupby(['year', 'month']).agg(['count'])\n",
    "count_by_month"
   ]
  },
  {
   "cell_type": "markdown",
   "metadata": {},
   "source": [
    "### Mensal"
   ]
  },
  {
   "cell_type": "code",
   "execution_count": 4,
   "metadata": {},
   "outputs": [
    {
     "data": {
      "text/plain": [
       "<matplotlib.axes._subplots.AxesSubplot at 0x7f06b6a0c358>"
      ]
     },
     "execution_count": 4,
     "metadata": {},
     "output_type": "execute_result"
    },
    {
     "data": {
      "image/png": "[encoded data removed]",
      "text/plain": [
       "<Figure size 432x288 with 1 Axes>"
      ]
     },
     "metadata": {
      "needs_background": "light"
     },
     "output_type": "display_data"
    }
   ],
   "source": [
    "count_by_month.plot.line()"
   ]
  },
  {
   "cell_type": "markdown",
   "metadata": {},
   "source": [
    "### Trimestral"
   ]
  },
  {
   "cell_type": "code",
   "execution_count": 5,
   "metadata": {},
   "outputs": [
    {
     "data": {
      "text/plain": [
       "[<matplotlib.lines.Line2D at 0x7f06bac3ffd0>]"
      ]
     },
     "execution_count": 5,
     "metadata": {},
     "output_type": "execute_result"
    },
    {
     "data": {
      "image/png": "[encoded data removed]",
      "text/plain": [
       "<Figure size 432x288 with 1 Axes>"
      ]
     },
     "metadata": {
      "needs_background": "light"
     },
     "output_type": "display_data"
    }
   ],
   "source": [
    "def trimester(year, n):\n",
    "    first_month = 3 * n + 1\n",
    "    return count_by_month.T[year][[first_month, first_month + 1, first_month + 2]].T.sum()\n",
    "\n",
    "years = count_by_month.index.levels[0]\n",
    "trimesters = []\n",
    "for y in years:\n",
    "    try:\n",
    "        for i in range(4):\n",
    "            trimesters.append(trimester(y, i))\n",
    "    except KeyError:\n",
    "        pass\n",
    "\n",
    "plt.plot(trimesters)"
   ]
  },
  {
   "cell_type": "markdown",
   "metadata": {},
   "source": [
    "### Anual"
   ]
  },
  {
   "cell_type": "code",
   "execution_count": 6,
   "metadata": {},
   "outputs": [
    {
     "data": {
      "text/plain": [
       "[<matplotlib.lines.Line2D at 0x7f06babae470>,\n",
       " <matplotlib.lines.Line2D at 0x7f06babae5c0>]"
      ]
     },
     "execution_count": 6,
     "metadata": {},
     "output_type": "execute_result"
    },
    {
     "data": {
      "image/png": "[encoded data removed]",
      "text/plain": [
       "<Figure size 432x288 with 1 Axes>"
      ]
     },
     "metadata": {
      "needs_background": "light"
     },
     "output_type": "display_data"
    }
   ],
   "source": [
    "by_year = orders_by_year_and_month.groupby(['year']).agg(['count'])\n",
    "plt.plot(by_year)"
   ]
  },
  {
   "cell_type": "markdown",
   "metadata": {},
   "source": [
    "## 2. Média de valor dos pedidos"
   ]
  },
  {
   "cell_type": "code",
   "execution_count": 7,
   "metadata": {
    "scrolled": true
   },
   "outputs": [
    {
     "data": {
      "text/html": [
       "<div>\n",
       "<style scoped>\n",
       "    .dataframe tbody tr th:only-of-type {\n",
       "        vertical-align: middle;\n",
       "    }\n",
       "\n",
       "    .dataframe tbody tr th {\n",
       "        vertical-align: top;\n",
       "    }\n",
       "\n",
       "    .dataframe thead th {\n",
       "        text-align: right;\n",
       "    }\n",
       "</style>\n",
       "<table border=\"1\" class=\"dataframe\">\n",
       "  <thead>\n",
       "    <tr style=\"text-align: right;\">\n",
       "      <th></th>\n",
       "      <th>Unnamed: 0</th>\n",
       "      <th>product_id</th>\n",
       "      <th>order_id</th>\n",
       "      <th>price</th>\n",
       "      <th>freight_value</th>\n",
       "      <th>order_purchase_timestamp</th>\n",
       "      <th>order_estimated_delivery_date</th>\n",
       "      <th>order_delivered_carrier_date</th>\n",
       "      <th>order_delivered_customer_date</th>\n",
       "      <th>product_category_name</th>\n",
       "      <th>product_name_lenght</th>\n",
       "      <th>product_description_lenght</th>\n",
       "      <th>product_photos_qty</th>\n",
       "      <th>product_weight_g</th>\n",
       "      <th>product_length_cm</th>\n",
       "      <th>product_height_cm</th>\n",
       "      <th>product_width_cm</th>\n",
       "    </tr>\n",
       "  </thead>\n",
       "  <tbody>\n",
       "    <tr>\n",
       "      <th>0</th>\n",
       "      <td>0</td>\n",
       "      <td>4244733e06e7ecb4970a6e2683c13e61</td>\n",
       "      <td>00010242fe8c5a6d1ba2dd792cb16214</td>\n",
       "      <td>58.9</td>\n",
       "      <td>13.29</td>\n",
       "      <td>2017-09-13 08:59:02</td>\n",
       "      <td>2017-09-29 00:00:00</td>\n",
       "      <td>2017-09-19 18:34:16</td>\n",
       "      <td>2017-09-20 23:43:48</td>\n",
       "      <td>cool_stuff</td>\n",
       "      <td>58.0</td>\n",
       "      <td>598.0</td>\n",
       "      <td>4.0</td>\n",
       "      <td>650.0</td>\n",
       "      <td>28.0</td>\n",
       "      <td>9.0</td>\n",
       "      <td>14.0</td>\n",
       "    </tr>\n",
       "    <tr>\n",
       "      <th>1</th>\n",
       "      <td>1</td>\n",
       "      <td>4244733e06e7ecb4970a6e2683c13e61</td>\n",
       "      <td>130898c0987d1801452a8ed92a670612</td>\n",
       "      <td>55.9</td>\n",
       "      <td>17.96</td>\n",
       "      <td>2017-06-28 11:52:20</td>\n",
       "      <td>2017-07-26 00:00:00</td>\n",
       "      <td>2017-07-05 12:00:33</td>\n",
       "      <td>2017-07-13 20:39:29</td>\n",
       "      <td>cool_stuff</td>\n",
       "      <td>58.0</td>\n",
       "      <td>598.0</td>\n",
       "      <td>4.0</td>\n",
       "      <td>650.0</td>\n",
       "      <td>28.0</td>\n",
       "      <td>9.0</td>\n",
       "      <td>14.0</td>\n",
       "    </tr>\n",
       "    <tr>\n",
       "      <th>2</th>\n",
       "      <td>2</td>\n",
       "      <td>4244733e06e7ecb4970a6e2683c13e61</td>\n",
       "      <td>532ed5e14e24ae1f0d735b91524b98b9</td>\n",
       "      <td>64.9</td>\n",
       "      <td>18.33</td>\n",
       "      <td>2018-05-18 10:25:53</td>\n",
       "      <td>2018-06-07 00:00:00</td>\n",
       "      <td>2018-05-23 14:05:00</td>\n",
       "      <td>2018-06-04 18:34:26</td>\n",
       "      <td>cool_stuff</td>\n",
       "      <td>58.0</td>\n",
       "      <td>598.0</td>\n",
       "      <td>4.0</td>\n",
       "      <td>650.0</td>\n",
       "      <td>28.0</td>\n",
       "      <td>9.0</td>\n",
       "      <td>14.0</td>\n",
       "    </tr>\n",
       "    <tr>\n",
       "      <th>3</th>\n",
       "      <td>3</td>\n",
       "      <td>4244733e06e7ecb4970a6e2683c13e61</td>\n",
       "      <td>6f8c31653edb8c83e1a739408b5ff750</td>\n",
       "      <td>58.9</td>\n",
       "      <td>16.17</td>\n",
       "      <td>2017-08-01 18:38:42</td>\n",
       "      <td>2017-08-25 00:00:00</td>\n",
       "      <td>2017-08-02 19:07:36</td>\n",
       "      <td>2017-08-09 21:26:33</td>\n",
       "      <td>cool_stuff</td>\n",
       "      <td>58.0</td>\n",
       "      <td>598.0</td>\n",
       "      <td>4.0</td>\n",
       "      <td>650.0</td>\n",
       "      <td>28.0</td>\n",
       "      <td>9.0</td>\n",
       "      <td>14.0</td>\n",
       "    </tr>\n",
       "    <tr>\n",
       "      <th>4</th>\n",
       "      <td>4</td>\n",
       "      <td>4244733e06e7ecb4970a6e2683c13e61</td>\n",
       "      <td>7d19f4ef4d04461989632411b7e588b9</td>\n",
       "      <td>58.9</td>\n",
       "      <td>13.29</td>\n",
       "      <td>2017-08-10 21:48:40</td>\n",
       "      <td>2017-09-01 00:00:00</td>\n",
       "      <td>2017-08-11 19:43:07</td>\n",
       "      <td>2017-08-24 20:04:21</td>\n",
       "      <td>cool_stuff</td>\n",
       "      <td>58.0</td>\n",
       "      <td>598.0</td>\n",
       "      <td>4.0</td>\n",
       "      <td>650.0</td>\n",
       "      <td>28.0</td>\n",
       "      <td>9.0</td>\n",
       "      <td>14.0</td>\n",
       "    </tr>\n",
       "  </tbody>\n",
       "</table>\n",
       "</div>"
      ],
      "text/plain": [
       "   Unnamed: 0                        product_id  \\\n",
       "0           0  4244733e06e7ecb4970a6e2683c13e61   \n",
       "1           1  4244733e06e7ecb4970a6e2683c13e61   \n",
       "2           2  4244733e06e7ecb4970a6e2683c13e61   \n",
       "3           3  4244733e06e7ecb4970a6e2683c13e61   \n",
       "4           4  4244733e06e7ecb4970a6e2683c13e61   \n",
       "\n",
       "                           order_id  price  freight_value  \\\n",
       "0  00010242fe8c5a6d1ba2dd792cb16214   58.9          13.29   \n",
       "1  130898c0987d1801452a8ed92a670612   55.9          17.96   \n",
       "2  532ed5e14e24ae1f0d735b91524b98b9   64.9          18.33   \n",
       "3  6f8c31653edb8c83e1a739408b5ff750   58.9          16.17   \n",
       "4  7d19f4ef4d04461989632411b7e588b9   58.9          13.29   \n",
       "\n",
       "  order_purchase_timestamp order_estimated_delivery_date  \\\n",
       "0      2017-09-13 08:59:02           2017-09-29 00:00:00   \n",
       "1      2017-06-28 11:52:20           2017-07-26 00:00:00   \n",
       "2      2018-05-18 10:25:53           2018-06-07 00:00:00   \n",
       "3      2017-08-01 18:38:42           2017-08-25 00:00:00   \n",
       "4      2017-08-10 21:48:40           2017-09-01 00:00:00   \n",
       "\n",
       "  order_delivered_carrier_date order_delivered_customer_date  \\\n",
       "0          2017-09-19 18:34:16           2017-09-20 23:43:48   \n",
       "1          2017-07-05 12:00:33           2017-07-13 20:39:29   \n",
       "2          2018-05-23 14:05:00           2018-06-04 18:34:26   \n",
       "3          2017-08-02 19:07:36           2017-08-09 21:26:33   \n",
       "4          2017-08-11 19:43:07           2017-08-24 20:04:21   \n",
       "\n",
       "  product_category_name  product_name_lenght  product_description_lenght  \\\n",
       "0            cool_stuff                 58.0                       598.0   \n",
       "1            cool_stuff                 58.0                       598.0   \n",
       "2            cool_stuff                 58.0                       598.0   \n",
       "3            cool_stuff                 58.0                       598.0   \n",
       "4            cool_stuff                 58.0                       598.0   \n",
       "\n",
       "   product_photos_qty  product_weight_g  product_length_cm  product_height_cm  \\\n",
       "0                 4.0             650.0               28.0                9.0   \n",
       "1                 4.0             650.0               28.0                9.0   \n",
       "2                 4.0             650.0               28.0                9.0   \n",
       "3                 4.0             650.0               28.0                9.0   \n",
       "4                 4.0             650.0               28.0                9.0   \n",
       "\n",
       "   product_width_cm  \n",
       "0              14.0  \n",
       "1              14.0  \n",
       "2              14.0  \n",
       "3              14.0  \n",
       "4              14.0  "
      ]
     },
     "execution_count": 7,
     "metadata": {},
     "output_type": "execute_result"
    }
   ],
   "source": [
    "sold = pd.read_csv('../datasets/trusted/sold_products.csv')\n",
    "sold.head()"
   ]
  },
  {
   "cell_type": "code",
   "execution_count": 8,
   "metadata": {},
   "outputs": [
    {
     "data": {
      "text/plain": [
       "119.958383054241"
      ]
     },
     "execution_count": 8,
     "metadata": {},
     "output_type": "execute_result"
    }
   ],
   "source": [
    "sold['price'].mean()"
   ]
  },
  {
   "cell_type": "code",
   "execution_count": 9,
   "metadata": {},
   "outputs": [
    {
     "data": {
      "text/plain": [
       "182.34615823122195"
      ]
     },
     "execution_count": 9,
     "metadata": {},
     "output_type": "execute_result"
    }
   ],
   "source": [
    "sold['price'].std()"
   ]
  },
  {
   "cell_type": "code",
   "execution_count": 10,
   "metadata": {},
   "outputs": [
    {
     "data": {
      "text/plain": [
       "<matplotlib.axes._subplots.AxesSubplot at 0x7f06b1e4d668>"
      ]
     },
     "execution_count": 10,
     "metadata": {},
     "output_type": "execute_result"
    },
    {
     "data": {
      "image/png": "[encoded data removed]",
      "text/plain": [
       "<Figure size 432x288 with 1 Axes>"
      ]
     },
     "metadata": {
      "needs_background": "light"
     },
     "output_type": "display_data"
    }
   ],
   "source": [
    "purchases = sold[['order_id', 'price']].groupby(['order_id']).agg(['sum'])\n",
    "\n",
    "orders['order_purchase_timestamp'] = pd.to_datetime(orders['order_purchase_timestamp'])\n",
    "\n",
    "order_price_by_year_and_month = pd.DataFrame({\n",
    "        'price': purchases['price']['sum'].values,\n",
    "        'time': pd.to_numeric(orders['order_purchase_timestamp']),\n",
    "        'year': orders['order_purchase_timestamp'].dt.year.values,\n",
    "        'month': orders['order_purchase_timestamp'].dt.month.values\n",
    "})\n",
    "order_price_by_year_and_month.head()\n",
    "\n",
    "order_price_by_year_and_month.plot.scatter(x='time', y='price')"
   ]
  },
  {
   "cell_type": "code",
   "execution_count": 11,
   "metadata": {},
   "outputs": [
    {
     "data": {
      "text/html": [
       "<div>\n",
       "<style scoped>\n",
       "    .dataframe tbody tr th:only-of-type {\n",
       "        vertical-align: middle;\n",
       "    }\n",
       "\n",
       "    .dataframe tbody tr th {\n",
       "        vertical-align: top;\n",
       "    }\n",
       "\n",
       "    .dataframe thead th {\n",
       "        text-align: right;\n",
       "    }\n",
       "</style>\n",
       "<table border=\"1\" class=\"dataframe\">\n",
       "  <thead>\n",
       "    <tr style=\"text-align: right;\">\n",
       "      <th></th>\n",
       "      <th>price</th>\n",
       "      <th>year</th>\n",
       "      <th>month</th>\n",
       "    </tr>\n",
       "  </thead>\n",
       "  <tbody>\n",
       "    <tr>\n",
       "      <th>74588</th>\n",
       "      <td>10.9</td>\n",
       "      <td>2017</td>\n",
       "      <td>1</td>\n",
       "    </tr>\n",
       "    <tr>\n",
       "      <th>102963</th>\n",
       "      <td>10.9</td>\n",
       "      <td>2017</td>\n",
       "      <td>1</td>\n",
       "    </tr>\n",
       "    <tr>\n",
       "      <th>76303</th>\n",
       "      <td>2.9</td>\n",
       "      <td>2017</td>\n",
       "      <td>1</td>\n",
       "    </tr>\n",
       "    <tr>\n",
       "      <th>93619</th>\n",
       "      <td>7.9</td>\n",
       "      <td>2017</td>\n",
       "      <td>1</td>\n",
       "    </tr>\n",
       "    <tr>\n",
       "      <th>90535</th>\n",
       "      <td>9.9</td>\n",
       "      <td>2017</td>\n",
       "      <td>1</td>\n",
       "    </tr>\n",
       "  </tbody>\n",
       "</table>\n",
       "</div>"
      ],
      "text/plain": [
       "        price  year  month\n",
       "74588    10.9  2017      1\n",
       "102963   10.9  2017      1\n",
       "76303     2.9  2017      1\n",
       "93619     7.9  2017      1\n",
       "90535     9.9  2017      1"
      ]
     },
     "execution_count": 11,
     "metadata": {},
     "output_type": "execute_result"
    }
   ],
   "source": [
    "sold['order_purchase_timestamp'] = pd.to_datetime(sold['order_purchase_timestamp'])\n",
    "sold = sold.sort_values('order_purchase_timestamp')\n",
    "\n",
    "item_price_by_year_and_month = pd.DataFrame({\n",
    "        'price': sold['price'],\n",
    "        'year': sold['order_purchase_timestamp'].dt.year,\n",
    "        'month': sold['order_purchase_timestamp'].dt.month\n",
    "})\n",
    "item_price_by_year_and_month.head()"
   ]
  },
  {
   "cell_type": "code",
   "execution_count": 12,
   "metadata": {
    "scrolled": false
   },
   "outputs": [
    {
     "data": {
      "text/html": [
       "<div>\n",
       "<style scoped>\n",
       "    .dataframe tbody tr th:only-of-type {\n",
       "        vertical-align: middle;\n",
       "    }\n",
       "\n",
       "    .dataframe tbody tr th {\n",
       "        vertical-align: top;\n",
       "    }\n",
       "\n",
       "    .dataframe thead tr th {\n",
       "        text-align: left;\n",
       "    }\n",
       "\n",
       "    .dataframe thead tr:last-of-type th {\n",
       "        text-align: right;\n",
       "    }\n",
       "</style>\n",
       "<table border=\"1\" class=\"dataframe\">\n",
       "  <thead>\n",
       "    <tr>\n",
       "      <th></th>\n",
       "      <th></th>\n",
       "      <th colspan=\"2\" halign=\"left\">price</th>\n",
       "      <th colspan=\"2\" halign=\"left\">time</th>\n",
       "    </tr>\n",
       "    <tr>\n",
       "      <th></th>\n",
       "      <th></th>\n",
       "      <th>mean</th>\n",
       "      <th>std</th>\n",
       "      <th>mean</th>\n",
       "      <th>std</th>\n",
       "    </tr>\n",
       "    <tr>\n",
       "      <th>year</th>\n",
       "      <th>month</th>\n",
       "      <th></th>\n",
       "      <th></th>\n",
       "      <th></th>\n",
       "      <th></th>\n",
       "    </tr>\n",
       "  </thead>\n",
       "  <tbody>\n",
       "    <tr>\n",
       "      <th rowspan=\"12\" valign=\"top\">2017</th>\n",
       "      <th>1</th>\n",
       "      <td>127.984253</td>\n",
       "      <td>159.601867</td>\n",
       "      <td>1485133905799999232</td>\n",
       "      <td>5.922613e+14</td>\n",
       "    </tr>\n",
       "    <tr>\n",
       "      <th>2</th>\n",
       "      <td>146.274834</td>\n",
       "      <td>384.530244</td>\n",
       "      <td>1487019931621899520</td>\n",
       "      <td>6.830595e+14</td>\n",
       "    </tr>\n",
       "    <tr>\n",
       "      <th>3</th>\n",
       "      <td>136.886555</td>\n",
       "      <td>231.180540</td>\n",
       "      <td>1489693574597015040</td>\n",
       "      <td>7.573199e+14</td>\n",
       "    </tr>\n",
       "    <tr>\n",
       "      <th>4</th>\n",
       "      <td>136.874703</td>\n",
       "      <td>196.158941</td>\n",
       "      <td>1492359489989578496</td>\n",
       "      <td>7.651725e+14</td>\n",
       "    </tr>\n",
       "    <tr>\n",
       "      <th>5</th>\n",
       "      <td>133.695426</td>\n",
       "      <td>195.661166</td>\n",
       "      <td>1494956525882116096</td>\n",
       "      <td>7.590491e+14</td>\n",
       "    </tr>\n",
       "    <tr>\n",
       "      <th>6</th>\n",
       "      <td>134.391668</td>\n",
       "      <td>193.796365</td>\n",
       "      <td>1497527998762041088</td>\n",
       "      <td>7.585288e+14</td>\n",
       "    </tr>\n",
       "    <tr>\n",
       "      <th>7</th>\n",
       "      <td>137.430979</td>\n",
       "      <td>208.663999</td>\n",
       "      <td>1500250411165031424</td>\n",
       "      <td>7.487678e+14</td>\n",
       "    </tr>\n",
       "    <tr>\n",
       "      <th>8</th>\n",
       "      <td>137.540193</td>\n",
       "      <td>198.239291</td>\n",
       "      <td>1502882231134033152</td>\n",
       "      <td>7.821262e+14</td>\n",
       "    </tr>\n",
       "    <tr>\n",
       "      <th>9</th>\n",
       "      <td>141.203723</td>\n",
       "      <td>238.899348</td>\n",
       "      <td>1505521330970362880</td>\n",
       "      <td>7.228292e+14</td>\n",
       "    </tr>\n",
       "    <tr>\n",
       "      <th>10</th>\n",
       "      <td>134.444969</td>\n",
       "      <td>176.270556</td>\n",
       "      <td>1508151409023672832</td>\n",
       "      <td>7.613276e+14</td>\n",
       "    </tr>\n",
       "    <tr>\n",
       "      <th>11</th>\n",
       "      <td>136.188598</td>\n",
       "      <td>186.862225</td>\n",
       "      <td>1511113916713398784</td>\n",
       "      <td>7.042288e+14</td>\n",
       "    </tr>\n",
       "    <tr>\n",
       "      <th>12</th>\n",
       "      <td>137.169122</td>\n",
       "      <td>219.061018</td>\n",
       "      <td>1513209377030293248</td>\n",
       "      <td>7.442889e+14</td>\n",
       "    </tr>\n",
       "    <tr>\n",
       "      <th rowspan=\"8\" valign=\"top\">2018</th>\n",
       "      <th>1</th>\n",
       "      <td>136.837656</td>\n",
       "      <td>206.347869</td>\n",
       "      <td>1516136520521569280</td>\n",
       "      <td>7.391713e+14</td>\n",
       "    </tr>\n",
       "    <tr>\n",
       "      <th>2</th>\n",
       "      <td>138.675483</td>\n",
       "      <td>208.097715</td>\n",
       "      <td>1518715546182913280</td>\n",
       "      <td>7.084531e+14</td>\n",
       "    </tr>\n",
       "    <tr>\n",
       "      <th>3</th>\n",
       "      <td>136.042298</td>\n",
       "      <td>199.118758</td>\n",
       "      <td>1521170409799231744</td>\n",
       "      <td>7.622215e+14</td>\n",
       "    </tr>\n",
       "    <tr>\n",
       "      <th>4</th>\n",
       "      <td>138.522927</td>\n",
       "      <td>205.774996</td>\n",
       "      <td>1523848473067960576</td>\n",
       "      <td>7.444960e+14</td>\n",
       "    </tr>\n",
       "    <tr>\n",
       "      <th>5</th>\n",
       "      <td>135.399927</td>\n",
       "      <td>192.242931</td>\n",
       "      <td>1526275757751961600</td>\n",
       "      <td>7.122327e+14</td>\n",
       "    </tr>\n",
       "    <tr>\n",
       "      <th>6</th>\n",
       "      <td>141.535663</td>\n",
       "      <td>221.132403</td>\n",
       "      <td>1529115995076895488</td>\n",
       "      <td>7.280294e+14</td>\n",
       "    </tr>\n",
       "    <tr>\n",
       "      <th>7</th>\n",
       "      <td>134.519115</td>\n",
       "      <td>194.748641</td>\n",
       "      <td>1531881652819125504</td>\n",
       "      <td>7.798705e+14</td>\n",
       "    </tr>\n",
       "    <tr>\n",
       "      <th>8</th>\n",
       "      <td>135.740625</td>\n",
       "      <td>219.391313</td>\n",
       "      <td>1534083323271607808</td>\n",
       "      <td>6.140733e+14</td>\n",
       "    </tr>\n",
       "  </tbody>\n",
       "</table>\n",
       "</div>"
      ],
      "text/plain": [
       "                 price                             time              \n",
       "                  mean         std                 mean           std\n",
       "year month                                                           \n",
       "2017 1      127.984253  159.601867  1485133905799999232  5.922613e+14\n",
       "     2      146.274834  384.530244  1487019931621899520  6.830595e+14\n",
       "     3      136.886555  231.180540  1489693574597015040  7.573199e+14\n",
       "     4      136.874703  196.158941  1492359489989578496  7.651725e+14\n",
       "     5      133.695426  195.661166  1494956525882116096  7.590491e+14\n",
       "     6      134.391668  193.796365  1497527998762041088  7.585288e+14\n",
       "     7      137.430979  208.663999  1500250411165031424  7.487678e+14\n",
       "     8      137.540193  198.239291  1502882231134033152  7.821262e+14\n",
       "     9      141.203723  238.899348  1505521330970362880  7.228292e+14\n",
       "     10     134.444969  176.270556  1508151409023672832  7.613276e+14\n",
       "     11     136.188598  186.862225  1511113916713398784  7.042288e+14\n",
       "     12     137.169122  219.061018  1513209377030293248  7.442889e+14\n",
       "2018 1      136.837656  206.347869  1516136520521569280  7.391713e+14\n",
       "     2      138.675483  208.097715  1518715546182913280  7.084531e+14\n",
       "     3      136.042298  199.118758  1521170409799231744  7.622215e+14\n",
       "     4      138.522927  205.774996  1523848473067960576  7.444960e+14\n",
       "     5      135.399927  192.242931  1526275757751961600  7.122327e+14\n",
       "     6      141.535663  221.132403  1529115995076895488  7.280294e+14\n",
       "     7      134.519115  194.748641  1531881652819125504  7.798705e+14\n",
       "     8      135.740625  219.391313  1534083323271607808  6.140733e+14"
      ]
     },
     "execution_count": 12,
     "metadata": {},
     "output_type": "execute_result"
    }
   ],
   "source": [
    "order_price_by_month = order_price_by_year_and_month.groupby(['year', 'month']).agg(['mean', 'std'])\n",
    "order_price_by_month"
   ]
  },
  {
   "cell_type": "code",
   "execution_count": 13,
   "metadata": {},
   "outputs": [
    {
     "data": {
      "text/html": [
       "<div>\n",
       "<style scoped>\n",
       "    .dataframe tbody tr th:only-of-type {\n",
       "        vertical-align: middle;\n",
       "    }\n",
       "\n",
       "    .dataframe tbody tr th {\n",
       "        vertical-align: top;\n",
       "    }\n",
       "\n",
       "    .dataframe thead tr th {\n",
       "        text-align: left;\n",
       "    }\n",
       "\n",
       "    .dataframe thead tr:last-of-type th {\n",
       "        text-align: right;\n",
       "    }\n",
       "</style>\n",
       "<table border=\"1\" class=\"dataframe\">\n",
       "  <thead>\n",
       "    <tr>\n",
       "      <th></th>\n",
       "      <th></th>\n",
       "      <th colspan=\"2\" halign=\"left\">price</th>\n",
       "    </tr>\n",
       "    <tr>\n",
       "      <th></th>\n",
       "      <th></th>\n",
       "      <th>mean</th>\n",
       "      <th>std</th>\n",
       "    </tr>\n",
       "    <tr>\n",
       "      <th>year</th>\n",
       "      <th>month</th>\n",
       "      <th></th>\n",
       "      <th></th>\n",
       "    </tr>\n",
       "  </thead>\n",
       "  <tbody>\n",
       "    <tr>\n",
       "      <th rowspan=\"12\" valign=\"top\">2017</th>\n",
       "      <th>1</th>\n",
       "      <td>122.451654</td>\n",
       "      <td>203.003077</td>\n",
       "    </tr>\n",
       "    <tr>\n",
       "      <th>2</th>\n",
       "      <td>126.062110</td>\n",
       "      <td>264.696822</td>\n",
       "    </tr>\n",
       "    <tr>\n",
       "      <th>3</th>\n",
       "      <td>123.989938</td>\n",
       "      <td>215.672059</td>\n",
       "    </tr>\n",
       "    <tr>\n",
       "      <th>4</th>\n",
       "      <td>132.607894</td>\n",
       "      <td>246.185283</td>\n",
       "    </tr>\n",
       "    <tr>\n",
       "      <th>5</th>\n",
       "      <td>122.212350</td>\n",
       "      <td>204.286088</td>\n",
       "    </tr>\n",
       "    <tr>\n",
       "      <th>6</th>\n",
       "      <td>120.929599</td>\n",
       "      <td>200.939255</td>\n",
       "    </tr>\n",
       "    <tr>\n",
       "      <th>7</th>\n",
       "      <td>109.058995</td>\n",
       "      <td>139.303748</td>\n",
       "    </tr>\n",
       "    <tr>\n",
       "      <th>8</th>\n",
       "      <td>115.634709</td>\n",
       "      <td>156.782826</td>\n",
       "    </tr>\n",
       "    <tr>\n",
       "      <th>9</th>\n",
       "      <td>128.224545</td>\n",
       "      <td>187.698677</td>\n",
       "    </tr>\n",
       "    <tr>\n",
       "      <th>10</th>\n",
       "      <td>124.328280</td>\n",
       "      <td>188.310827</td>\n",
       "    </tr>\n",
       "    <tr>\n",
       "      <th>11</th>\n",
       "      <td>116.550486</td>\n",
       "      <td>166.789114</td>\n",
       "    </tr>\n",
       "    <tr>\n",
       "      <th>12</th>\n",
       "      <td>117.348180</td>\n",
       "      <td>159.625381</td>\n",
       "    </tr>\n",
       "    <tr>\n",
       "      <th rowspan=\"8\" valign=\"top\">2018</th>\n",
       "      <th>1</th>\n",
       "      <td>115.048526</td>\n",
       "      <td>155.052980</td>\n",
       "    </tr>\n",
       "    <tr>\n",
       "      <th>2</th>\n",
       "      <td>109.927791</td>\n",
       "      <td>143.748341</td>\n",
       "    </tr>\n",
       "    <tr>\n",
       "      <th>3</th>\n",
       "      <td>118.916833</td>\n",
       "      <td>168.286904</td>\n",
       "    </tr>\n",
       "    <tr>\n",
       "      <th>4</th>\n",
       "      <td>124.381511</td>\n",
       "      <td>190.188090</td>\n",
       "    </tr>\n",
       "    <tr>\n",
       "      <th>5</th>\n",
       "      <td>125.165773</td>\n",
       "      <td>195.668878</td>\n",
       "    </tr>\n",
       "    <tr>\n",
       "      <th>6</th>\n",
       "      <td>122.122377</td>\n",
       "      <td>187.466675</td>\n",
       "    </tr>\n",
       "    <tr>\n",
       "      <th>7</th>\n",
       "      <td>124.652227</td>\n",
       "      <td>203.421310</td>\n",
       "    </tr>\n",
       "    <tr>\n",
       "      <th>8</th>\n",
       "      <td>117.414819</td>\n",
       "      <td>184.707626</td>\n",
       "    </tr>\n",
       "  </tbody>\n",
       "</table>\n",
       "</div>"
      ],
      "text/plain": [
       "                 price            \n",
       "                  mean         std\n",
       "year month                        \n",
       "2017 1      122.451654  203.003077\n",
       "     2      126.062110  264.696822\n",
       "     3      123.989938  215.672059\n",
       "     4      132.607894  246.185283\n",
       "     5      122.212350  204.286088\n",
       "     6      120.929599  200.939255\n",
       "     7      109.058995  139.303748\n",
       "     8      115.634709  156.782826\n",
       "     9      128.224545  187.698677\n",
       "     10     124.328280  188.310827\n",
       "     11     116.550486  166.789114\n",
       "     12     117.348180  159.625381\n",
       "2018 1      115.048526  155.052980\n",
       "     2      109.927791  143.748341\n",
       "     3      118.916833  168.286904\n",
       "     4      124.381511  190.188090\n",
       "     5      125.165773  195.668878\n",
       "     6      122.122377  187.466675\n",
       "     7      124.652227  203.421310\n",
       "     8      117.414819  184.707626"
      ]
     },
     "execution_count": 13,
     "metadata": {},
     "output_type": "execute_result"
    }
   ],
   "source": [
    "item_price_by_month = item_price_by_year_and_month.groupby(['year', 'month']).agg(['mean', 'std'])\n",
    "item_price_by_month"
   ]
  },
  {
   "cell_type": "code",
   "execution_count": 14,
   "metadata": {},
   "outputs": [
    {
     "data": {
      "text/plain": [
       "<matplotlib.axes._subplots.AxesSubplot at 0x7f06bb37bf60>"
      ]
     },
     "execution_count": 14,
     "metadata": {},
     "output_type": "execute_result"
    },
    {
     "data": {
      "image/png": "[encoded data removed]",
      "text/plain": [
       "<Figure size 432x288 with 1 Axes>"
      ]
     },
     "metadata": {
      "needs_background": "light"
     },
     "output_type": "display_data"
    },
    {
     "data": {
      "image/png": "[encoded data removed]",
      "text/plain": [
       "<Figure size 432x288 with 1 Axes>"
      ]
     },
     "metadata": {
      "needs_background": "light"
     },
     "output_type": "display_data"
    }
   ],
   "source": [
    "order_price_by_month.plot.line(title=\"Pedidos\", grid=True)\n",
    "item_price_by_month.plot.line(title=\"Produtos\", grid=True)"
   ]
  },
  {
   "cell_type": "code",
   "execution_count": null,
   "metadata": {},
   "outputs": [],
   "source": []
  }
 ],
 "metadata": {
  "kernelspec": {
   "display_name": "Python 3",
   "language": "python",
   "name": "python3"
  },
  "language_info": {
   "codemirror_mode": {
    "name": "ipython",
    "version": 3
   },
   "file_extension": ".py",
   "mimetype": "text/x-python",
   "name": "python",
   "nbconvert_exporter": "python",
   "pygments_lexer": "ipython3",
   "version": "3.6.7"
  }
 },
 "nbformat": 4,
 "nbformat_minor": 2
}
